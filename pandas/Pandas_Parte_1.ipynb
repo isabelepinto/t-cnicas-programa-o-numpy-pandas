{
 "cells": [
  {
   "cell_type": "markdown",
   "metadata": {
    "id": "THAV2r_aFY6t"
   },
   "source": [
    "# <font color=blue> MBA em Ciência de Dados</font>\n",
    "\n",
    "# <span style=\"color:blue\"> Ada Tech</span>\n",
    "# <span style=\"color:blue\">Técnicas de Programação I - Python</span>\n",
    "\n",
    "## <font color=blue>Pandas Parte I</font>\n",
    "**Maurício Luiz Sobrinho**<br>\n",
    "**Matheus Parreiras Andrade**<br>\n",
    "\n",
    "---"
   ]
  },
  {
   "cell_type": "markdown",
   "metadata": {
    "id": "GSejz044FY6z"
   },
   "source": [
    "__Conteúdo:__\n",
    "\n",
    "- Pandas - Part I:\n",
    "  - Séries\n",
    "  - DataFrame\n",
    "- I/O com Pandas\n",
    "  \n",
    "__Referencias:__\n",
    "\n",
    "[Introduction to Pandas](https://www.ritchieng.com/pandas-introduction/)"
   ]
  },
  {
   "cell_type": "markdown",
   "metadata": {
    "id": "9C8r8s6QFY6z"
   },
   "source": [
    "---\n",
    "## Pandas - Parte I"
   ]
  },
  {
   "cell_type": "markdown",
   "metadata": {
    "id": "9H14tUosFY6z"
   },
   "source": [
    "<font color='blue'>Pandas</font> é um pacote python construído com base no <font color='blue'>numpy</font> e <font color='blue'>matplotlib</font> que busca organizar dados no formato de tabela, atribuindo rótulos às linhas e colunas. O pacote <font color='blue'>pandas</font> fornece ainda um conjunto de funcionalidades que premite processar as informações de tabelas de forma bastante eficiente, implementando métodos fundamentais para fins de tratamento de dados.\n",
    "\n",
    "O <font color='blue'>pandas</font> organiza os dados em três tipos de estruturas:\n",
    "- Series (Séries)\n",
    "- DataFrame\n",
    "- Panel (Paineis não serão abordados neste curso)"
   ]
  },
  {
   "cell_type": "markdown",
   "metadata": {
    "id": "51hmIbMGFY60"
   },
   "source": [
    "### <font color='blue'>Series</font>\n",
    "A estrutura de representação tipo <font color='blue'>series</font> do <font color='blue'>pandas</font> é semelhante a um array unidimensional, porém os elementos podem ser indexados por números inteiros (como em um array do <font color='blue'>numpy</font>) ou por meio de rótulos (labels) que não precisam ser únicos e podem ser organizados de forma hierárquica.\n",
    "- Quando os índices ou rótulos não são informados explicitamente, <font color='blue'>pandas</font> cria uma indexação com números inteiros automaticamente, variando os índices de $0$ (zero) a $n-1$, onde $n$ é o número de elementos na série.\n",
    "- Os rótulos são usados para realizar buscas rápidas, alinhamento de dados e operações de junção de dados."
   ]
  },
  {
   "cell_type": "markdown",
   "metadata": {
    "id": "2TJsYYFNFY60"
   },
   "source": [
    "#### Criando séries com <font color='blue'>pandas</font>\n",
    "Séries podem ser criadas no <font color='blue'>pandas</font> de diferentes formas, a partir de:\n",
    "- listas\n",
    "- arrays\n",
    "- dicionários\n",
    "- DataFrames"
   ]
  },
  {
   "cell_type": "code",
   "execution_count": null,
   "metadata": {
    "id": "16lukQjKFY61"
   },
   "outputs": [],
   "source": [
    "import pandas as pd"
   ]
  },
  {
   "cell_type": "markdown",
   "metadata": {
    "id": "-_TjTSbrGccG"
   },
   "source": [
    "**Criando Séries a partir de listas**"
   ]
  },
  {
   "cell_type": "code",
   "execution_count": null,
   "metadata": {
    "id": "Q9rQb3qoFY61",
    "outputId": "9e7146be-a635-4b36-c7ad-b1e6cde899ba"
   },
   "outputs": [
    {
     "name": "stdout",
     "output_type": "stream",
     "text": [
      "0    a\n",
      "1    b\n",
      "2    c\n",
      "3    d\n",
      "4    e\n",
      "dtype: object\n"
     ]
    }
   ],
   "source": [
    "# Criando uma série a partir de uma lista. Neste caso os índices (ou rótulos) não são fornecidos,\n",
    "# então o pandas cria os índices automaticamente\n",
    "\n",
    "lst = ['a','b','c','d','e']\n",
    "series = pd.Series(lst)\n",
    "print(series)"
   ]
  },
  {
   "cell_type": "code",
   "execution_count": null,
   "metadata": {
    "id": "mNERCegEFY62",
    "outputId": "f3f03aa2-6f5f-49c8-8d73-4911c463b367"
   },
   "outputs": [
    {
     "name": "stdout",
     "output_type": "stream",
     "text": [
      "id0    a\n",
      "id1    b\n",
      "id2    c\n",
      "id3    d\n",
      "id4    e\n",
      "dtype: object\n"
     ]
    }
   ],
   "source": [
    "# indices pondem ser informados utilizando o parâmetro index\n",
    "\n",
    "lst = ['a','b','c','d','e']\n",
    "indices = ['id'+str(i) for i in range(len(lst))]  # criando rótulos no formato id0, id1, etc..\n",
    "series = pd.Series(lst,index=indices)\n",
    "print(series)"
   ]
  },
  {
   "cell_type": "markdown",
   "metadata": {
    "id": "59sEsobeGk1A"
   },
   "source": [
    "**Criando Séries a partir de dicionários**"
   ]
  },
  {
   "cell_type": "code",
   "execution_count": null,
   "metadata": {
    "id": "OFWon897FY62",
    "outputId": "fa6231e1-d98e-4515-9a80-102ff2252e51"
   },
   "outputs": [
    {
     "name": "stdout",
     "output_type": "stream",
     "text": [
      "A    50\n",
      "B    10\n",
      "C    80\n",
      "D    33\n",
      "dtype: int64\n"
     ]
    }
   ],
   "source": [
    "# Criando uma série a partir de um dicionário. As chaves do dicionário se tornam os rótulos e\n",
    "# os valores os elementos da série\n",
    "\n",
    "dct = {'A' : 50, 'B' : 10, 'C' : 80, 'D' : 33} \n",
    "series = pd.Series(dct)\n",
    "print(series)"
   ]
  },
  {
   "cell_type": "markdown",
   "metadata": {
    "id": "ZJ1X2oJWFY63"
   },
   "source": [
    "#### Acessando os elementos de uma série\n",
    "Os elementos de uma série podem ser acessados:\n",
    "- informando o índice (ou rótulo) dos elementos desejados (pode ser uma lista)\n",
    "- via fatiamente (slicing) semelhante ao <font color='blue'>numpy</font> array\n",
    "  - o fatiamento pode ser feito utilizando os índices como números inteiros ou os rótulos\n",
    "  - **CUIDADO:** quando o slicing é feito com rótulos, o último elemento é retornado na subsérie\n",
    "- via máscara booleana"
   ]
  },
  {
   "cell_type": "code",
   "execution_count": null,
   "metadata": {
    "colab": {
     "base_uri": "https://localhost:8080/"
    },
    "executionInfo": {
     "elapsed": 757,
     "status": "ok",
     "timestamp": 1614607509931,
     "user": {
      "displayName": "Luis Gustavo Nonato",
      "photoUrl": "",
      "userId": "16109025348268293164"
     },
     "user_tz": 180
    },
    "id": "-n_5GbUjFY63",
    "outputId": "1d27d792-4666-43dc-8750-322b76eb1b75"
   },
   "outputs": [
    {
     "name": "stdout",
     "output_type": "stream",
     "text": [
      "Elemento \"A\":  50\n",
      "Elementos \"C\" e \"D\":\n",
      " C    80\n",
      "D    33\n",
      "dtype: int64\n"
     ]
    }
   ],
   "source": [
    "# Criando uma série a partir de um dicionário.\n",
    "dct = {'A' : 50, 'B' : 10, 'C' : 80, 'D' : 33} \n",
    "series = pd.Series(dct)\n",
    "\n",
    "print('Elemento \"A\": ',series['A']) # acessando o elemento com rótulo 'A'\n",
    "print('Elementos \"C\" e \"D\":\\n',series[['C','D']]) # acessando elementos com rótulo 'C','D' a partir de lista de rótulos\n",
    "                                                  # quando se utiliza uma lista de rótulos, uma subsérie é retornada\n",
    "                                                  # e não somente os valores"
   ]
  },
  {
   "cell_type": "code",
   "execution_count": null,
   "metadata": {
    "id": "Qn5a5KZIFY63",
    "outputId": "1c56ab9c-8ec7-4c19-ec84-eb2f59da1f0d"
   },
   "outputs": [
    {
     "name": "stdout",
     "output_type": "stream",
     "text": [
      "Elemento de indice 0:  50\n",
      "Elementos com indice entre 0 e 2:\n",
      " A    50\n",
      "B    10\n",
      "C    80\n",
      "dtype: int64\n",
      "Elementos com rótulo entre \"B\" e \"D\":\n",
      " B    10\n",
      "C    80\n",
      "D    33\n",
      "dtype: int64\n"
     ]
    }
   ],
   "source": [
    "# fatiamento (slicing) com índices e rótulos (ambos podem ser utilizados)\n",
    "\n",
    "print('Elemento de indice 0: ',series[0])    # retornando o elemento de índice 0\n",
    "\n",
    "print('Elementos com indice entre 0 e 2:\\n',series[0:3])  # slicing dos elementos com \n",
    "                                                    # índice 0 entre 2 (uma subsérie é retornada)\n",
    "\n",
    "print('Elementos com rótulo entre \"B\" e \"D\":\\n',series['B':'D']) \n",
    "                                            # slicing com rótulos (uma subsérie é retornada)\n",
    "                                            \n",
    "# CUIDADO: quando o slicing é feito com rótulos, o último elemento é retornado na subsérie"
   ]
  },
  {
   "cell_type": "code",
   "execution_count": null,
   "metadata": {
    "id": "IsQSnD0iFY64",
    "outputId": "7a69fc84-b3f0-4f6e-f413-5352d2182ffc"
   },
   "outputs": [
    {
     "name": "stdout",
     "output_type": "stream",
     "text": [
      "A    50\n",
      "B    10\n",
      "C    80\n",
      "D    33\n",
      "dtype: int64\n",
      "A     True\n",
      "B    False\n",
      "C     True\n",
      "D     True\n",
      "dtype: bool\n",
      "A    50\n",
      "C    80\n",
      "D    33\n",
      "dtype: int64\n"
     ]
    }
   ],
   "source": [
    "# máscaras booleanas podem ser utilizadas para recuperar elementos da série que correspondem ao valor True da máscara\n",
    "\n",
    "mask = (series>=30)\n",
    "print(series)\n",
    "print(mask)\n",
    "print(series[mask])"
   ]
  },
  {
   "cell_type": "markdown",
   "metadata": {
    "id": "WFOrg8z9FY64"
   },
   "source": [
    "#### Reindexação\n",
    "O método <font color='blue'>reindex</font> permite reindexar a série (modifica a ordem dos elementos). \n",
    "- Caso um novo rótulo que não esteja presente na série original seja fornecido para o comando <font color='blue'>reindex</font>, um valor `NaN` (significa que o dado está faltando) é utilizado como valor para o novo rótulo."
   ]
  },
  {
   "cell_type": "code",
   "execution_count": null,
   "metadata": {
    "colab": {
     "base_uri": "https://localhost:8080/"
    },
    "executionInfo": {
     "elapsed": 914,
     "status": "ok",
     "timestamp": 1614607943106,
     "user": {
      "displayName": "Luis Gustavo Nonato",
      "photoUrl": "",
      "userId": "16109025348268293164"
     },
     "user_tz": 180
    },
    "id": "GUbUHQd8FY64",
    "outputId": "557a5634-6182-4519-ee2d-75df90a69745"
   },
   "outputs": [
    {
     "name": "stdout",
     "output_type": "stream",
     "text": [
      "série original\n",
      "0    0\n",
      "1    1\n",
      "3    2\n",
      "dtype: int64\n",
      "\n",
      "reindexado\n",
      "4    NaN\n",
      "3    2.0\n",
      "2    NaN\n",
      "1    1.0\n",
      "0    0.0\n",
      "dtype: float64\n"
     ]
    }
   ],
   "source": [
    "import numpy as np\n",
    "\n",
    "indice=[0,1,3] # rótulos para serem utilizados na série\n",
    "valores = np.arange(3)\n",
    "s = pd.Series(valores,index=indice) # cria uma série a partir de um array com rótulos 0, 1 e 3\n",
    "print('série original')\n",
    "print(s)\n",
    "\n",
    "print('\\nreindexado')   \n",
    "s_nan = s.reindex([4,3,2,1,0])  # gera uma nova ordem para os elementos. Note que os rótulos 4 e 2\n",
    "                                # não estavam presentes na série original. 'NaN' é atribuido como valores \n",
    "                                # associados aos novos rótulos \n",
    "                                # ATENÇÃO: uma nova série é gerada, a original não é afetada\n",
    "print(s_nan)\n"
   ]
  },
  {
   "cell_type": "markdown",
   "metadata": {
    "id": "w2ExTHz3FY65"
   },
   "source": [
    "#### Tratando valores faltantes"
   ]
  },
  {
   "cell_type": "markdown",
   "metadata": {
    "id": "VoGV7dVuFY65"
   },
   "source": [
    "Valores faltantes em uma série podem ser identificados através do método <font color='blue'>isna</font>, \n",
    "o qual gera uma máscara booleana."
   ]
  },
  {
   "cell_type": "code",
   "execution_count": null,
   "metadata": {
    "colab": {
     "base_uri": "https://localhost:8080/"
    },
    "executionInfo": {
     "elapsed": 1255,
     "status": "ok",
     "timestamp": 1614607951207,
     "user": {
      "displayName": "Luis Gustavo Nonato",
      "photoUrl": "",
      "userId": "16109025348268293164"
     },
     "user_tz": 180
    },
    "id": "nMh_VtnRFY65",
    "outputId": "c2c0e5bf-963c-44eb-cb6b-0e95559a08c2"
   },
   "outputs": [
    {
     "name": "stdout",
     "output_type": "stream",
     "text": [
      "4    NaN\n",
      "3    2.0\n",
      "2    NaN\n",
      "1    1.0\n",
      "0    0.0\n",
      "dtype: float64\n",
      "4     True\n",
      "3    False\n",
      "2     True\n",
      "1    False\n",
      "0    False\n",
      "dtype: bool\n",
      "4   -1.0\n",
      "3    2.0\n",
      "2   -1.0\n",
      "1    1.0\n",
      "0    0.0\n",
      "dtype: float64\n"
     ]
    }
   ],
   "source": [
    "s_nan = s.reindex([4,3,2,1,0]) # reindexação insere valores faltantes na série\n",
    "print(s_nan)\n",
    "\n",
    "s_mask_nan = pd.isna(s_nan)    # identifica os valores faltantes\n",
    "print(s_mask_nan)\n",
    "\n",
    "s_nan[s_mask_nan] = -1     # substitui os valores faltantes por -1\n",
    "print(s_nan)"
   ]
  },
  {
   "cell_type": "markdown",
   "metadata": {
    "id": "1ExIERJKFY65"
   },
   "source": [
    "Valores faltantes no processo de reindexação (`NaN`) podem ser preenchidos atribuindo um valor por meio do parâmetro `fill_value`."
   ]
  },
  {
   "cell_type": "code",
   "execution_count": null,
   "metadata": {
    "id": "LoWo4q_7FY66",
    "outputId": "588d10b9-742c-46b6-9c13-2601fde97639"
   },
   "outputs": [
    {
     "name": "stdout",
     "output_type": "stream",
     "text": [
      "4   -1\n",
      "3    2\n",
      "2   -1\n",
      "1    1\n",
      "0    0\n",
      "dtype: int64\n"
     ]
    }
   ],
   "source": [
    "# reindexado e tratando valores faltantes\n",
    "s_fvalue = s.reindex([4,3,2,1,0], fill_value=-1)  # valores faltantes são substituídos por -1\n",
    "print(s_fvalue)"
   ]
  },
  {
   "cell_type": "markdown",
   "metadata": {
    "id": "mQT3iYlhFY66"
   },
   "source": [
    "#### Operações aritméticas com séries \n",
    "Operações aritméticas entre séries são realizadas de acordo com os rótulos, ou seja, quando os rótulos nas duas séries envolvidas na operação são iguais, a operação é realizada, caso contrário um valor `NaN` é gerado."
   ]
  },
  {
   "cell_type": "code",
   "execution_count": null,
   "metadata": {
    "id": "tSChNW-aFY66",
    "outputId": "0b8a20ae-e027-489c-fc74-b221fe74dba9"
   },
   "outputs": [
    {
     "name": "stdout",
     "output_type": "stream",
     "text": [
      "s1\n",
      " id3    3\n",
      "id8    8\n",
      "id0    0\n",
      "id4    4\n",
      "id5    5\n",
      "dtype: int64\n",
      "s2\n",
      " id3    3\n",
      "id9    9\n",
      "id8    8\n",
      "id5    5\n",
      "dtype: int64\n",
      "id0     NaN\n",
      "id3     6.0\n",
      "id4     NaN\n",
      "id5    10.0\n",
      "id8    16.0\n",
      "id9     NaN\n",
      "dtype: float64\n"
     ]
    }
   ],
   "source": [
    "values_s1 = [3,8,0,4,5]       # criando os valores da série s1\n",
    "index_s1 = ['id'+str(i) for i in values_s1]  # criando os rótulos da série s1\n",
    "s1 = pd.Series(values_s1, index=index_s1)   # criando a série s1\n",
    "\n",
    "values_s2 = [3,9,8,5]         # criando os valores da série s2\n",
    "index_s2 = ['id'+str(i) for i in values_s2]  # criando os rótulos da série s2\n",
    "s2 = pd.Series(values_s2, index=index_s2)   # criando a série s2\n",
    "\n",
    "print('s1\\n',s1) \n",
    "print('s2\\n',s2) \n",
    "print(s1+s2)     # apenas os valores dos rótulos que são iguais nas \n",
    "                 # séries s1 e s2 são somados\n",
    "\n",
    "# Note que apenas os valores cujos rótulos aparecem nas duas séries são somados\n",
    "# se o rótulo aparece em apenas uma série um valor NaN é inserido\n",
    "# No exemplo acima, id0 e id4 aparecem apenas na série s1\n",
    "# id9 aparece apenas na série s2                 "
   ]
  },
  {
   "cell_type": "markdown",
   "metadata": {
    "id": "0oXRILrmFY66"
   },
   "source": [
    "#### Ordenação dos elementos de uma série\n",
    "O <font color='blue'>pandas</font> possui métodos para ordenar uma série pelos seus valores ou rótulos: \n",
    "- <font color='blue'>sort_index</font> ordena pelos rótulos\n",
    "- <font color='blue'>sort_values</font> ordena pelos valores"
   ]
  },
  {
   "cell_type": "code",
   "execution_count": null,
   "metadata": {
    "id": "vTXH2EltFY67",
    "outputId": "b191da79-ab4c-4b41-a664-2ab92ed48adb"
   },
   "outputs": [
    {
     "name": "stdout",
     "output_type": "stream",
     "text": [
      "d    9\n",
      "a    9\n",
      "b    6\n",
      "c    2\n",
      "dtype: int64\n",
      "a    9\n",
      "b    6\n",
      "c    2\n",
      "d    9\n",
      "dtype: int64\n",
      "c    2\n",
      "b    6\n",
      "d    9\n",
      "a    9\n",
      "dtype: int64\n"
     ]
    }
   ],
   "source": [
    "r = pd.Series(np.random.randint(0,10,4), index=['d','a','b','c']) # gerando a série com 4 valores inteiros gerados de forma randômica\n",
    "                                                                  # cujos rótulos são ['d','a','b','c']\n",
    "print(r)\n",
    "\n",
    "print(r.sort_index())  # ordena pelos rótulos retornando uma nova série ordenada (a série original não é modificada)\n",
    "\n",
    "print(r.sort_values()) # ordena pelos valores retornando uma nova série ordenada (a série original não é modificada)"
   ]
  },
  {
   "cell_type": "markdown",
   "metadata": {
    "id": "a4MAzj9xFY67"
   },
   "source": [
    "#### Rótulos repetidos\n",
    "Séries podem possuir rótulos repetidos, o que facilita recuperar partes da série de forma simples. "
   ]
  },
  {
   "cell_type": "code",
   "execution_count": null,
   "metadata": {
    "id": "w8zKHMWbFY67",
    "outputId": "7141ab1f-87bd-4f8e-aed3-160a3298e286"
   },
   "outputs": [
    {
     "name": "stdout",
     "output_type": "stream",
     "text": [
      "a    0\n",
      "b    1\n",
      "a    2\n",
      "b    3\n",
      "c    4\n",
      "d    5\n",
      "a    6\n",
      "dtype: int64\n",
      "Recuperando subserie de rótulos \"a\":\n",
      "a    0\n",
      "a    2\n",
      "a    6\n",
      "dtype: int64\n",
      "Recuperando subserie de rótulos \"b\":\n",
      "b    1\n",
      "b    3\n",
      "dtype: int64\n"
     ]
    }
   ],
   "source": [
    "s = pd.Series(range(7), index=list('ababcda'))  # gerando uma série com valores de 0 a 6 com rótulos dados por ['a','b','a','b','c','d','a']\n",
    "print(s)\n",
    "\n",
    "print('Recuperando subserie de rótulos \"a\":')\n",
    "print(s['a']) # recuperando a subsérie dos rótulos 'a'\n",
    "print('Recuperando subserie de rótulos \"b\":')\n",
    "print(s['b']) # recuperando a subsérie dos rótulos 'b'"
   ]
  },
  {
   "cell_type": "markdown",
   "metadata": {
    "id": "KEaHrW1IFY67"
   },
   "source": [
    "#### Outros métodos\n",
    "Existem muitos métodos implementados para operar sobre os valores. Alguns exemplos são:\n",
    "- <font color='blue'>unique</font> -      recupera os valores únicos da série\n",
    "- <font color='blue'>value_counts</font> - conta o número de ocorrências de cada valor\n",
    "- <font color='blue'>isin</font> -        verifica onde os valores indicados aparecem na série\n",
    "- ...(muito mais)"
   ]
  },
  {
   "cell_type": "code",
   "execution_count": null,
   "metadata": {
    "id": "2DlRyusEFY68",
    "outputId": "05269560-c8d7-4191-8e7f-5304a66d5a0f"
   },
   "outputs": [
    {
     "name": "stdout",
     "output_type": "stream",
     "text": [
      "Valores únicos da série:\n",
      "\n",
      " ['c' 'a' 'd' 'b']\n",
      "\n",
      "Contagem do número de ocorrências de cada valor:\n",
      "\n",
      " a    3\n",
      "c    3\n",
      "b    2\n",
      "d    1\n",
      "dtype: int64\n",
      "\n",
      "Verifica onde os valores ocorrem na série:\n",
      "\n",
      " 0    False\n",
      "1    False\n",
      "2     True\n",
      "3    False\n",
      "4    False\n",
      "5     True\n",
      "6     True\n",
      "7    False\n",
      "8    False\n",
      "dtype: bool\n"
     ]
    }
   ],
   "source": [
    "s = pd.Series(['c','a','d','a','a','b','b','c','c']) # rótulos gerados automaticamente \n",
    "\n",
    "print('Valores únicos da série:\\n\\n',s.unique())\n",
    "print('\\nContagem do número de ocorrências de cada valor:\\n\\n',s.value_counts()) # retorna uma nova série cujo rótulo é o elemento e o \n",
    "                                                                                 # valor o número de vezes que o elemento aparece na série\n",
    "\n",
    "print('\\nVerifica onde os valores ocorrem na série:\\n\\n',s.isin(['b','d'])) # retorna uma série máscara booleana com True na posição onde o valor ocorre"
   ]
  },
  {
   "cell_type": "markdown",
   "metadata": {
    "id": "hGft8uHbFY68"
   },
   "source": [
    "### <font color='blue'>DataFrames</font>\n",
    "<font color='blue'>DataFrame</font> é uma estrutura de dados do <font color='blue'>pandas</font> semelhante a uma planilha (como uma planilha excel). Em um <font color='blue'>DataFrame</font> tanto as linhas como as colunas são indexadas por rótulos. "
   ]
  },
  {
   "cell_type": "markdown",
   "metadata": {
    "id": "-LQ-mE-fFY68"
   },
   "source": [
    "Dataframes podem ser criados de muitas maneiras diferentes:\n",
    "- __2-D NumPy array:__ Uma matriz de dados, podendo especificar os rótulos de linhas e colunas\n",
    "- __Dicionário de arrays, listas, ou tuplas:__ Cada sequência se torna uma coluna. As sequências devem ter o mesmo número de elementos\n",
    "- __Dicionário de séries:__ Cada séries se torna uma coluna. Os rótulos de cada séries são unidos para formar os rótulos das linhas\n",
    "- __Dicionário de dicionário:__ Cada dicionário se torna uma coluna. Chaves dos dicionários se unem para formar os rótulos das linhas\n",
    "- __Lista de dicionários ou séries:__ Cada elemento da lista se torna uma linha no DataFrame. A união das chaves (para dicionário) ou rótulos (para séries) gera os rótulos das colunas\n",
    "- __Lista de listas or tuplas:__ Similar a uma matriz do numpy\n",
    "- __DataFrame:__ O índice do DataFrame é mantido a não ser que um novo seja fornecido "
   ]
  },
  {
   "cell_type": "code",
   "execution_count": null,
   "metadata": {
    "colab": {
     "base_uri": "https://localhost:8080/"
    },
    "executionInfo": {
     "elapsed": 1484,
     "status": "ok",
     "timestamp": 1614609252153,
     "user": {
      "displayName": "Luis Gustavo Nonato",
      "photoUrl": "",
      "userId": "16109025348268293164"
     },
     "user_tz": 180
    },
    "id": "E55WCrbVFY69",
    "outputId": "03609372-4c80-455b-e70e-0acc438da230"
   },
   "outputs": [
    {
     "name": "stdout",
     "output_type": "stream",
     "text": [
      "  state  year   pop\n",
      "0    FL  2010  18.8\n",
      "1    FL  2011  19.1\n",
      "2    GA  2008   9.7\n",
      "3    GA  2010   9.7\n",
      "4    GA  2011   9.8\n",
      "5    FL  2013   7.1\n",
      "6    FL  2009   8.3\n"
     ]
    }
   ],
   "source": [
    "# Criando um DataFrame a partir de um dicionário de listas\n",
    "# as chave se tornam os rótulos das colunas \n",
    "# as listas devem possuir o mesmo número de elementos\n",
    "d = {'state' : ['FL', 'FL', 'GA', 'GA', 'GA','FL','FL'],    \n",
    "     'year' :  [2010, 2011, 2008, 2010, 2011, 2013, 2009],    \n",
    "     'pop' :   [18.8, 19.1, 9.7, 9.7, 9.8, 7.1, 8.3]}\n",
    "\n",
    "df_d = pd.DataFrame(d)  # como os rótulos das linhas não foram especificados, pandas os gera automaticamente\n",
    "print(df_d)"
   ]
  },
  {
   "cell_type": "markdown",
   "metadata": {
    "id": "T2XkXAFuFY69"
   },
   "source": [
    "**Atenção:** Dois métodos são muito úteis para analisar rapidamente um DataFrame: <font color='blue'>head</font> e <font color='blue'>dtypes</font>\n",
    "- <font color='blue'>head</font> - mostra as 5 primeiras linhas do DataFrame.\n",
    "- <font color='blue'>dtypes</font> - mostra o tipo de dado em cada coluna"
   ]
  },
  {
   "cell_type": "code",
   "execution_count": null,
   "metadata": {
    "id": "4vpSpZh7FY69",
    "outputId": "ae7fd3ca-7a79-4eaa-8abb-a2186d2db47e"
   },
   "outputs": [
    {
     "data": {
      "text/html": [
       "<div>\n",
       "<style scoped>\n",
       "    .dataframe tbody tr th:only-of-type {\n",
       "        vertical-align: middle;\n",
       "    }\n",
       "\n",
       "    .dataframe tbody tr th {\n",
       "        vertical-align: top;\n",
       "    }\n",
       "\n",
       "    .dataframe thead th {\n",
       "        text-align: right;\n",
       "    }\n",
       "</style>\n",
       "<table border=\"1\" class=\"dataframe\">\n",
       "  <thead>\n",
       "    <tr style=\"text-align: right;\">\n",
       "      <th></th>\n",
       "      <th>state</th>\n",
       "      <th>year</th>\n",
       "      <th>pop</th>\n",
       "    </tr>\n",
       "  </thead>\n",
       "  <tbody>\n",
       "    <tr>\n",
       "      <td>0</td>\n",
       "      <td>FL</td>\n",
       "      <td>2010</td>\n",
       "      <td>18.8</td>\n",
       "    </tr>\n",
       "    <tr>\n",
       "      <td>1</td>\n",
       "      <td>FL</td>\n",
       "      <td>2011</td>\n",
       "      <td>19.1</td>\n",
       "    </tr>\n",
       "    <tr>\n",
       "      <td>2</td>\n",
       "      <td>GA</td>\n",
       "      <td>2008</td>\n",
       "      <td>9.7</td>\n",
       "    </tr>\n",
       "    <tr>\n",
       "      <td>3</td>\n",
       "      <td>GA</td>\n",
       "      <td>2010</td>\n",
       "      <td>9.7</td>\n",
       "    </tr>\n",
       "    <tr>\n",
       "      <td>4</td>\n",
       "      <td>GA</td>\n",
       "      <td>2011</td>\n",
       "      <td>9.8</td>\n",
       "    </tr>\n",
       "  </tbody>\n",
       "</table>\n",
       "</div>"
      ],
      "text/plain": [
       "  state  year   pop\n",
       "0    FL  2010  18.8\n",
       "1    FL  2011  19.1\n",
       "2    GA  2008   9.7\n",
       "3    GA  2010   9.7\n",
       "4    GA  2011   9.8"
      ]
     },
     "execution_count": 26,
     "metadata": {
      "tags": []
     },
     "output_type": "execute_result"
    }
   ],
   "source": [
    "df_d.head() # mostra as 5 primeiras linhas do DataFrame."
   ]
  },
  {
   "cell_type": "code",
   "execution_count": null,
   "metadata": {
    "id": "bdp4mL81FY6-",
    "outputId": "f6a2efcc-4b5d-4617-e9da-418a87bc5ed7"
   },
   "outputs": [
    {
     "data": {
      "text/plain": [
       "state     object\n",
       "year       int64\n",
       "pop      float64\n",
       "dtype: object"
      ]
     },
     "execution_count": 27,
     "metadata": {
      "tags": []
     },
     "output_type": "execute_result"
    }
   ],
   "source": [
    "df_d.dtypes # mostra o tipo de dado de cada coluna"
   ]
  },
  {
   "cell_type": "code",
   "execution_count": null,
   "metadata": {
    "id": "dj0OidZKFY6-",
    "outputId": "c9169e47-c947-4554-9011-0d08b1dcdde1"
   },
   "outputs": [
    {
     "name": "stdout",
     "output_type": "stream",
     "text": [
      "        FL   GA\n",
      "2008   NaN  9.7\n",
      "2010  18.1  9.7\n",
      "2011  19.1  9.8\n"
     ]
    }
   ],
   "source": [
    "# Criando um dataframe a partir de um dicionário de dicionários\n",
    "dod = {'FL' : {2010:18.1, 2011:19.1},            # as chaves do \"primeiro\" dicionário se tornam os rótulos das colunas\n",
    "       'GA' : {2008: 9.7, 2010: 9.7, 2011:9.8}}  # as chaves dos dicionários internos (valores do primeiro dicionário)\n",
    "                                                 # se tornam os rótulos das linhas\n",
    "\n",
    "df_dod = pd.DataFrame(dod)   # criando o DataFrame\n",
    "\n",
    "print(df_dod)                  # quando um valor não aparece como chave de um dicionário interno, 'NaN' é inserido\n",
    "                               # como valor"
   ]
  },
  {
   "cell_type": "markdown",
   "metadata": {
    "id": "4_FnNQo1FY6-"
   },
   "source": [
    "#### **Manipulando e Acessando Colunas**\n",
    "Colunas podem ser acessadas:\n",
    "  - via seus rótulos dentro de colchetes [ ]\n",
    "  - utilizando rótulo como atributo (não recomendado acessar desta forma, pois existem restrições)\n",
    "  - via lista de rótulos dentro de colchetes [ ] (acessa várias colunas)"
   ]
  },
  {
   "cell_type": "code",
   "execution_count": null,
   "metadata": {
    "colab": {
     "base_uri": "https://localhost:8080/"
    },
    "executionInfo": {
     "elapsed": 808,
     "status": "ok",
     "timestamp": 1614609482584,
     "user": {
      "displayName": "Luis Gustavo Nonato",
      "photoUrl": "",
      "userId": "16109025348268293164"
     },
     "user_tz": 180
    },
    "id": "g_4d3KQUFY6-",
    "outputId": "0b18d530-c126-446e-e9ad-7708aa162bee"
   },
   "outputs": [
    {
     "name": "stdout",
     "output_type": "stream",
     "text": [
      "Rótulos das colunas: ['state' 'year' 'pop']\n",
      "-----\n",
      "Coluna \"pop\":\n",
      " 0    18.8\n",
      "1    19.1\n",
      "2     9.7\n",
      "3     9.7\n",
      "4     9.8\n",
      "Name: pop, dtype: float64\n",
      "-----\n",
      "Coluna \"year\":\n",
      " 0    2010\n",
      "1    2011\n",
      "2    2008\n",
      "3    2010\n",
      "4    2011\n",
      "Name: year, dtype: int64\n",
      "-----\n",
      "Coluna \"pop\" e \"year\":\n",
      "     pop  year\n",
      "0  18.8  2010\n",
      "1  19.1  2011\n",
      "2   9.7  2008\n",
      "3   9.7  2010\n",
      "4   9.8  2011\n"
     ]
    }
   ],
   "source": [
    "d = {'state' : ['FL', 'FL', 'GA', 'GA', 'GA'],    # dicionário de listas\n",
    "     'year' :  [2010, 2011, 2008, 2010, 2011],    \n",
    "     'pop' :   [18.8, 19.1, 9.7, 9.7, 9.8]}\n",
    "\n",
    "df_d = pd.DataFrame(d)   # construindo o DataFrame a partir do dicionário de listas\n",
    "\n",
    "print('Rótulos das colunas:',df_d.columns.values)  # imprime o nome das colunas\n",
    "print(5*'-')\n",
    "print('Coluna \"pop\":\\n',df_d['pop'])   # acessando a coluna 'pop' (o resultado é uma série)\n",
    "print(5*'-')\n",
    "print('Coluna \"year\":\\n',df_d.year)    # acessando a coluna 'year' como atributo, não recomendado acessar desta forma, \n",
    "                                       # pois existem restrições, (o resultado é uma série)\n",
    "                                       \n",
    "print(5*'-')\n",
    "print('Coluna \"pop\" e \"year\":\\n',df_d[['pop','year']]) # acessando simultaneamente as colunas 'pop' e 'year' (o resultado é um DataFrame)"
   ]
  },
  {
   "cell_type": "markdown",
   "metadata": {
    "id": "C1c5OXHFFY6_"
   },
   "source": [
    "#### Busca com expressões booleanas\n",
    "O método <font color='blue'>query</font> permite recuperar elementos utilizando uma expressão booleana fornecida como uma string. A string é interpretada, se o conteúdo da string contém rótulos das colunas, tal coluna é utilizada na comparação."
   ]
  },
  {
   "cell_type": "code",
   "execution_count": null,
   "metadata": {
    "id": "wzMaP7eBFY6_",
    "outputId": "7e547770-6e72-46d7-b07e-a00dd7528d64"
   },
   "outputs": [
    {
     "name": "stdout",
     "output_type": "stream",
     "text": [
      "Buscando valores na coluna \"pop\" menores que 10\n",
      "\n",
      "  state  year  pop\n",
      "2    GA  2008  9.7\n",
      "3    GA  2010  9.7\n",
      "4    GB  2011  9.8\n",
      "\n",
      "Buscando valores na coluna \"pop\" menores que 10 e valores diferentes de GB coluna \"state\"\n",
      "\n",
      "  state  year  pop\n",
      "2    GA  2008  9.7\n",
      "3    GA  2010  9.7\n"
     ]
    }
   ],
   "source": [
    "d = {'state' : ['FL', 'FL', 'GA', 'GA', 'GB'],    # dicionário de listas\n",
    "     'year' :  [2010, 2011, 2008, 2010, 2011],    \n",
    "     'pop' :   [18.8, 19.1, 9.7, 9.7, 9.8]}\n",
    "\n",
    "df_d = pd.DataFrame(d)   # construindo o DataFrame a partir do dicionário de listas\n",
    "\n",
    "print('Buscando valores na coluna \"pop\" menores que 10\\n')\n",
    "print(df_d.query('pop < 10')) # recupera as linhas do DataFrame cujos elementos da coluna 'pop' sejam menores que 10\n",
    "                              # retorna um novo DataFrame\n",
    "\n",
    "print('\\nBuscando valores na coluna \"pop\" menores que 10 e valores diferentes de GB na coluna \"state\"\\n')\n",
    "print(df_d.query('pop < 10 & state != \"GB\"'))  # recupera as linhas do DataFrame cujos elementos da coluna 'pop' são menores que 10 e da coluna 'state' sejam diferentes de \"GB\"\n",
    "                                               # retorna um novo DataFrame"
   ]
  },
  {
   "cell_type": "code",
   "execution_count": null,
   "metadata": {
    "colab": {
     "base_uri": "https://localhost:8080/"
    },
    "executionInfo": {
     "elapsed": 1070,
     "status": "ok",
     "timestamp": 1614609797902,
     "user": {
      "displayName": "Luis Gustavo Nonato",
      "photoUrl": "",
      "userId": "16109025348268293164"
     },
     "user_tz": 180
    },
    "id": "qq_iw720FY6_",
    "outputId": "5eeb3fe9-eb80-4914-92b5-36645ed50b1a"
   },
   "outputs": [
    {
     "name": "stdout",
     "output_type": "stream",
     "text": [
      "     co0  co1  co2  co3  co4\n",
      "li0    8   15   10   21    0\n",
      "li1    0   10   15   21    4\n",
      "li2   23   11   21   28   24\n",
      "li3   16    0    5   15   15\n",
      "li4   11   13    9   29   21\n",
      "df_a[\"co1\"] < 20\n",
      "li0    True\n",
      "li1    True\n",
      "li2    True\n",
      "li3    True\n",
      "li4    True\n",
      "li5    True\n",
      "li6    True\n",
      "Name: co1, dtype: bool\n",
      "\n",
      "(df_a[\"co2\"] > 10) & (df_a[\"co4\"] < 20)\n",
      "li0    False\n",
      "li1     True\n",
      "li2    False\n",
      "li3    False\n",
      "li4    False\n",
      "li5     True\n",
      "li6    False\n",
      "dtype: bool\n",
      "\n",
      "(df_a[\"co2\"] > 10) | (df_a[\"co4\"] < 20)\n",
      "li0     True\n",
      "li1     True\n",
      "li2     True\n",
      "li3     True\n",
      "li4    False\n",
      "li5     True\n",
      "li6     True\n",
      "dtype: bool\n"
     ]
    }
   ],
   "source": [
    "# Criando um DataFrame a partir de um array bidimensional e especificando os rótulos de linhas e colunas\n",
    "A = np.random.randint(0,30,35).reshape(7,5)\n",
    "rotulo_linhas  = ['li'+str(i) for i in range(A.shape[0])]\n",
    "rotulo_colunas = ['co'+str(i) for i in range(A.shape[1])]\n",
    "\n",
    "df_a = pd.DataFrame(A,index=rotulo_linhas,columns=rotulo_colunas) # criando o DataFrame e especificando os rótulos\n",
    "                                                                  # das linhas e colunas\n",
    "print(df_a.head())  # mostrando as primeiras 5 linhas\n",
    "\n",
    "# retornando uma série tipo 'mascara booleana'\n",
    "print('df_a[\"co1\"] < 20')\n",
    "print(df_a['co1'] < 20)   # retorna uma serie como máscara booleanos\n",
    "\n",
    "print('\\n(df_a[\"co2\"] > 10) & (df_a[\"co4\"] < 20)')\n",
    "print((df_a[\"co2\"] > 10) & (df_a[\"co4\"] < 20))   # combinando expressões booleanas com o operador & (AND)\n",
    "\n",
    "print('\\n(df_a[\"co2\"] > 10) | (df_a[\"co4\"] < 20)')\n",
    "print((df_a[\"co2\"] > 10) | (df_a[\"co4\"] < 20))   # combinando expressões booleanas com o operador | (OR)"
   ]
  },
  {
   "cell_type": "markdown",
   "metadata": {
    "id": "VXeCYIo3FY6_"
   },
   "source": [
    "#### Criando e removendo colunas\n",
    "- Colunas podem ser criadas simplesmente atribuindo um novo rótulo ao DataFrame e especificando os elementos da coluna\n",
    "- Colunas podem ser removidas utilizando os métodos <font color='blue'>drop</font> ou <font color='blue'>del</font>"
   ]
  },
  {
   "cell_type": "code",
   "execution_count": null,
   "metadata": {
    "colab": {
     "base_uri": "https://localhost:8080/"
    },
    "executionInfo": {
     "elapsed": 1104,
     "status": "ok",
     "timestamp": 1614609924760,
     "user": {
      "displayName": "Luis Gustavo Nonato",
      "photoUrl": "",
      "userId": "16109025348268293164"
     },
     "user_tz": 180
    },
    "id": "VVxaA1DNFY6_",
    "outputId": "cd633c03-03d3-4068-d294-2d578453d6d4"
   },
   "outputs": [
    {
     "name": "stdout",
     "output_type": "stream",
     "text": [
      "  state  year   pop\n",
      "0    FL  2010  18.8\n",
      "1    FL  2011  19.1\n",
      "2    GA  2008   9.7\n",
      "3    GA  2010   9.7\n",
      "4    GB  2011   9.8\n",
      "\n",
      "   state  year   pop  new_col\n",
      "0    FL  2010  18.8      0.0\n",
      "1    FL  2011  19.1      0.0\n",
      "2    GA  2008   9.7      0.0\n",
      "3    GA  2010   9.7      0.0\n",
      "4    GB  2011   9.8      0.0\n"
     ]
    }
   ],
   "source": [
    "d = {'state' : ['FL', 'FL', 'GA', 'GA', 'GB'],    # dicionário de listas\n",
    "     'year' :  [2010, 2011, 2008, 2010, 2011],    \n",
    "     'pop' :   [18.8, 19.1, 9.7, 9.7, 9.8]}\n",
    "\n",
    "df_d = pd.DataFrame(d)   # construindo o DataFrame a partir do dicionário de listas\n",
    "print(df_d)\n",
    "\n",
    "# criando uma nova coluna com o rótulo 'new_col' onde todos os elementos são zero\n",
    "df_d['new_col'] = np.zeros((df_d.shape[0])) # o comando shape funciona como no numpy e indica o \n",
    "                                            # número de linhas (shape[0]) e colunas (shape[1]) no DataFrame\n",
    "print('\\n',df_d)"
   ]
  },
  {
   "cell_type": "code",
   "execution_count": null,
   "metadata": {
    "id": "5aJfFvynFY6_",
    "outputId": "b98b694b-7b80-4cd6-ca85-a1b8fb174043"
   },
   "outputs": [
    {
     "name": "stdout",
     "output_type": "stream",
     "text": [
      "  state  year   pop\n",
      "0    FL  2010  18.8\n",
      "1    FL  2011  19.1\n",
      "2    GA  2008   9.7\n",
      "3    GA  2010   9.7\n",
      "4    GA  2011   9.8\n"
     ]
    }
   ],
   "source": [
    "# removendo a coluna 'new_col' criada na célula anterior do notebook\n",
    "df_d = df_d.drop(['new_col'], axis=1) # o parêmetro axis=1 indica que se está removendo coluna\n",
    "                                      # pois o método drop pode ser utilizado para remover linhas\n",
    "print(df_d)\n",
    "\n",
    "# A coluna também poderia ser removida com o comando 'del'\n",
    "# del df_d['new_col']"
   ]
  },
  {
   "cell_type": "markdown",
   "metadata": {
    "id": "qzJhrkneFY7A"
   },
   "source": [
    "#### **Manipulando e Acessando Linhas**\n",
    "As linhas de um DataFrame podem ser acessadas utilizando os métodos:\n",
    "- <font color='blue'>iloc</font> - manipula o DataFrame como uma matriz com índices inteiros, como se fosse um array\n",
    "- <font color='blue'>loc</font> - seleciona linhas pelos rótulos (ou índices) ou por máscara booleana"
   ]
  },
  {
   "cell_type": "code",
   "execution_count": null,
   "metadata": {
    "id": "FnrWYspuFY7A",
    "outputId": "7b9df640-7f65-49a0-e146-3382469e60cb"
   },
   "outputs": [
    {
     "name": "stdout",
     "output_type": "stream",
     "text": [
      "     co0  co1  co2  co3  co4\n",
      "li0   10    2   10   21   24\n",
      "li1    0    2    3    4    1\n",
      "li2   17   25   17   27    3\n",
      "li3   23   28   26   29    0\n",
      "li4   29    4   24   11   20\n",
      "li5    3   21   13    4    0\n",
      "li6   27   13   23   16    0\n",
      "\n",
      "Acessando linha de indice 2:\n",
      "co0    17\n",
      "co1    25\n",
      "co2    17\n",
      "co3    27\n",
      "co4     3\n",
      "Name: li2, dtype: int64\n",
      "\n",
      "Acessando as linhas com indice 2 e 3 e colunas a partir do indice 1:\n",
      "     co1  co2  co3  co4\n",
      "li2   25   17   27    3\n",
      "li3   28   26   29    0\n"
     ]
    }
   ],
   "source": [
    "import numpy as np\n",
    "\n",
    "# Exemplos do uso de 'iloc'\n",
    "# Criando um DataFrame a partir de um array e especificando os rótulos de linhas e colunas\n",
    "A = np.random.randint(0,30,35).reshape(7,5)\n",
    "rotulo_linhas  = ['li'+str(i) for i in range(A.shape[0])]\n",
    "rotulo_colunas = ['co'+str(i) for i in range(A.shape[1])]\n",
    "\n",
    "df_a = pd.DataFrame(A,index=rotulo_linhas,columns=rotulo_colunas) # criando o DataFrame e especificando os rótulos\n",
    "                                                                  # das linhas e colunas\n",
    "\n",
    "print(df_a)\n",
    "\n",
    "print('\\nAcessando linha de indice 2:')\n",
    "print(df_a.iloc[2])  # retorna a linha como uma série \n",
    "                     # (rótulos das colunas se tornan os rótulos das linhas)\n",
    "\n",
    "print('\\nAcessando as linhas com indice 2 e 3 e todas as colunas a partir do indice 1:')\n",
    "print(df_a.iloc[2:4,1:]) # slicing o DataFrame\n",
    "                         # o resutlado do slicing é um DataFrame (como um view do numpy)"
   ]
  },
  {
   "cell_type": "code",
   "execution_count": null,
   "metadata": {
    "id": "Q8Lm_b-6FY7A",
    "outputId": "275c0149-1ffb-465f-8c92-c60a32bec683"
   },
   "outputs": [
    {
     "name": "stdout",
     "output_type": "stream",
     "text": [
      "     co0  co1  co2  co3  co4\n",
      "li0   10    2   10   21   24\n",
      "li1    0    2    3    4    1\n",
      "li2   17   25   17   27    3\n",
      "li3   23   28   26   29    0\n",
      "li4   29    4   24   11   20\n",
      "li5    3   21   13    4    0\n",
      "li6   27   13   23   16    0\n",
      "\n",
      "Acessando a linha com rótulo \"li2\"\n",
      "co0    17\n",
      "co1    25\n",
      "co2    17\n",
      "co3    27\n",
      "co4     3\n",
      "Name: li2, dtype: int64\n",
      "\n",
      "Acessando as linhas com rótulo \"li1\" e \"li3\"\n",
      "     co0  co1  co2  co3  co4\n",
      "li1    0    2    3    4    1\n",
      "li3   23   28   26   29    0\n",
      "\n",
      "Acessando as linhas entre os rótulos \"li1\" e \"li4\" na coluna \"co3\"\n",
      "li1     4\n",
      "li2    27\n",
      "li3    29\n",
      "li4    11\n",
      "Name: co3, dtype: int64\n"
     ]
    }
   ],
   "source": [
    "# Exemplos do uso de 'loc'\n",
    "\n",
    "print(df_a) # imprimindo o DataFrame criado no exemplo anterior\n",
    "\n",
    "print('\\nAcessando a linha com rótulo \"li2\"')\n",
    "print(df_a.loc['li2']) # retorna a linha como uma série \n",
    "                       # (rótulos das colunas se tornan os rótulos das linhas)\n",
    "\n",
    "print('\\nAcessando as linhas com rótulo \"li1\" e \"li3\"')\n",
    "print(df_a.loc[['li1','li3']]) # acessando múltiplas linhas via lista de rótulos\n",
    "                               # o resultado é um DataFrame\n",
    "    \n",
    "print('\\nAcessando as linhas entre os rótulos \"li1\" e \"li4\" na coluna \"co3\"')\n",
    "print(df_a.loc['li1':'li4','co3']) # acessando múltiplas linhas via slicing\n",
    "                                   # note que o metodo loc inclui o último elemento \n",
    "                                   # ('li4' também é retornado)"
   ]
  },
  {
   "cell_type": "markdown",
   "metadata": {
    "id": "-EPdlvwYFY7A"
   },
   "source": [
    "O método <font color='blue'>loc</font> aceita expressões booleanas "
   ]
  },
  {
   "cell_type": "code",
   "execution_count": null,
   "metadata": {
    "id": "CbQoPKThFY7A",
    "outputId": "dba442bd-4858-4899-b401-e673a9701e7c"
   },
   "outputs": [
    {
     "name": "stdout",
     "output_type": "stream",
     "text": [
      "     co0  co1  co2  co3  co4\n",
      "li0   10   24   28   24    7\n",
      "li1    3    5   15    0   27\n",
      "li2   13   16   23   22   27\n",
      "li6   12   24   15    4   18\n"
     ]
    }
   ],
   "source": [
    "# O método loc aceita expressoes booleanas\n",
    "print(df_a.loc[df_a['co2'] >= 15]) # retorna todas as linhas onde o valor da coluna 'co2' é maior ou igual a 15\n",
    "                                   # o resultado é um novo DataFrame"
   ]
  },
  {
   "cell_type": "markdown",
   "metadata": {
    "id": "2hOG6c1RFY7A"
   },
   "source": [
    "#### Ordenando um DataFrame\n",
    "Assim como nas séries, é possível ordernar pelos rótulos das linhas, mas ao ordernar por valor é necessário definir a coluna."
   ]
  },
  {
   "cell_type": "code",
   "execution_count": null,
   "metadata": {
    "id": "sMbQoGhYFY7B",
    "outputId": "26917bd2-e7c5-432a-a61a-b9c3027a0ed8"
   },
   "outputs": [
    {
     "data": {
      "text/html": [
       "<div>\n",
       "<style scoped>\n",
       "    .dataframe tbody tr th:only-of-type {\n",
       "        vertical-align: middle;\n",
       "    }\n",
       "\n",
       "    .dataframe tbody tr th {\n",
       "        vertical-align: top;\n",
       "    }\n",
       "\n",
       "    .dataframe thead th {\n",
       "        text-align: right;\n",
       "    }\n",
       "</style>\n",
       "<table border=\"1\" class=\"dataframe\">\n",
       "  <thead>\n",
       "    <tr style=\"text-align: right;\">\n",
       "      <th></th>\n",
       "      <th>co0</th>\n",
       "      <th>co1</th>\n",
       "      <th>co2</th>\n",
       "      <th>co3</th>\n",
       "      <th>co4</th>\n",
       "    </tr>\n",
       "  </thead>\n",
       "  <tbody>\n",
       "    <tr>\n",
       "      <th>li4</th>\n",
       "      <td>26</td>\n",
       "      <td>4</td>\n",
       "      <td>7</td>\n",
       "      <td>1</td>\n",
       "      <td>15</td>\n",
       "    </tr>\n",
       "    <tr>\n",
       "      <th>li1</th>\n",
       "      <td>3</td>\n",
       "      <td>5</td>\n",
       "      <td>15</td>\n",
       "      <td>0</td>\n",
       "      <td>27</td>\n",
       "    </tr>\n",
       "    <tr>\n",
       "      <th>li5</th>\n",
       "      <td>4</td>\n",
       "      <td>10</td>\n",
       "      <td>13</td>\n",
       "      <td>13</td>\n",
       "      <td>19</td>\n",
       "    </tr>\n",
       "    <tr>\n",
       "      <th>li2</th>\n",
       "      <td>13</td>\n",
       "      <td>16</td>\n",
       "      <td>23</td>\n",
       "      <td>22</td>\n",
       "      <td>27</td>\n",
       "    </tr>\n",
       "    <tr>\n",
       "      <th>li0</th>\n",
       "      <td>10</td>\n",
       "      <td>24</td>\n",
       "      <td>28</td>\n",
       "      <td>24</td>\n",
       "      <td>7</td>\n",
       "    </tr>\n",
       "    <tr>\n",
       "      <th>li6</th>\n",
       "      <td>12</td>\n",
       "      <td>24</td>\n",
       "      <td>15</td>\n",
       "      <td>4</td>\n",
       "      <td>18</td>\n",
       "    </tr>\n",
       "    <tr>\n",
       "      <th>li3</th>\n",
       "      <td>26</td>\n",
       "      <td>29</td>\n",
       "      <td>11</td>\n",
       "      <td>27</td>\n",
       "      <td>9</td>\n",
       "    </tr>\n",
       "  </tbody>\n",
       "</table>\n",
       "</div>"
      ],
      "text/plain": [
       "     co0  co1  co2  co3  co4\n",
       "li4   26    4    7    1   15\n",
       "li1    3    5   15    0   27\n",
       "li5    4   10   13   13   19\n",
       "li2   13   16   23   22   27\n",
       "li0   10   24   28   24    7\n",
       "li6   12   24   15    4   18\n",
       "li3   26   29   11   27    9"
      ]
     },
     "execution_count": 61,
     "metadata": {
      "tags": []
     },
     "output_type": "execute_result"
    }
   ],
   "source": [
    "df_a.sort_values('co1')  # ordena as linhas de acordo com a coluna 'co1'"
   ]
  },
  {
   "cell_type": "markdown",
   "metadata": {
    "id": "xeeJ9eIFFY7B"
   },
   "source": [
    "**Atenção:** sort_values, gera uma cópia. Para modificar o DataFrame, deve-se passar o parâmetro `inplace = True`"
   ]
  },
  {
   "cell_type": "code",
   "execution_count": null,
   "metadata": {
    "id": "rmiBXXlcFY7B",
    "outputId": "d7a5a376-8491-4b8a-ffbc-84e0c60a382a"
   },
   "outputs": [
    {
     "name": "stdout",
     "output_type": "stream",
     "text": [
      "     co0  co1  co2  co3  co4\n",
      "li0    0   11   21    3    5\n",
      "li6    0   16   27   16    2\n",
      "li2    2    2   28    4   13\n",
      "li1    9   18   27   16   23\n",
      "li4   13   23   28   16   27\n",
      "li3   16   26    5   19    1\n",
      "li5   19   15    7   25   27\n",
      "\n",
      "DataFrame original não é afetado\n",
      "     co0  co1  co2  co3  co4\n",
      "li0    0   11   21    3    5\n",
      "li1    9   18   27   16   23\n",
      "li2    2    2   28    4   13\n",
      "li3   16   26    5   19    1\n",
      "li4   13   23   28   16   27\n",
      "li5   19   15    7   25   27\n",
      "li6    0   16   27   16    2\n",
      "\n",
      "Parâmetro \"inplace=True\" modifica o DataFrame original\n",
      "     co0  co1  co2  co3  co4\n",
      "li0    0   11   21    3    5\n",
      "li6    0   16   27   16    2\n",
      "li2    2    2   28    4   13\n",
      "li1    9   18   27   16   23\n",
      "li4   13   23   28   16   27\n",
      "li3   16   26    5   19    1\n",
      "li5   19   15    7   25   27\n"
     ]
    }
   ],
   "source": [
    "print(df_a.sort_values('co0')) # a ordenação não modifica o DataFrame original\n",
    "\n",
    "print('\\nDataFrame original não é afetado')\n",
    "print(df_a)\n",
    "\n",
    "df_a.sort_values('co0',inplace=True) # o parâmetro 'inplace=True' modifica o DataFrame original \n",
    "                                     # (porém não retorna um outro DataFrame)\n",
    "\n",
    "print('\\nParâmetro \"inplace=True\" modifica o DataFrame original')    \n",
    "print(df_a)"
   ]
  },
  {
   "cell_type": "markdown",
   "metadata": {
    "id": "fFJKhcrQFY7B"
   },
   "source": [
    "### Recuperando apenas os valores do DataFrame\n",
    "O atributo <font color='blue'>values</font> converte o contéudo de um DataFrame em um <font color='blue'>numpy</font> array."
   ]
  },
  {
   "cell_type": "code",
   "execution_count": null,
   "metadata": {
    "colab": {
     "base_uri": "https://localhost:8080/"
    },
    "executionInfo": {
     "elapsed": 1003,
     "status": "ok",
     "timestamp": 1614610451711,
     "user": {
      "displayName": "Luis Gustavo Nonato",
      "photoUrl": "",
      "userId": "16109025348268293164"
     },
     "user_tz": 180
    },
    "id": "w0fKDsZ3FY7B",
    "outputId": "07aba9db-8cbe-4f8d-8cbe-6e0cab9d2a3e"
   },
   "outputs": [
    {
     "name": "stdout",
     "output_type": "stream",
     "text": [
      "     co0  co1  co2  co3  co4\n",
      "li0    8   15   10   21    0\n",
      "li1    0   10   15   21    4\n",
      "li2   23   11   21   28   24\n",
      "li3   16    0    5   15   15\n",
      "li4   11   13    9   29   21\n",
      "li5   16    0   19   24    2\n",
      "li6   21    1   24   15   23\n",
      "----------\n",
      "[[ 8 15 10 21  0]\n",
      " [ 0 10 15 21  4]\n",
      " [23 11 21 28 24]\n",
      " [16  0  5 15 15]\n",
      " [11 13  9 29 21]\n",
      " [16  0 19 24  2]\n",
      " [21  1 24 15 23]]\n",
      "<class 'numpy.ndarray'>\n"
     ]
    }
   ],
   "source": [
    "print(df_a)\n",
    "print(5*'--')\n",
    "print(df_a.values) # recuperando somente o conteúdo do DataFrame \n",
    "print(type(df_a.values))  #  o resultado é um array do numpy"
   ]
  },
  {
   "cell_type": "markdown",
   "metadata": {
    "id": "atLBDx2cFY7B"
   },
   "source": [
    "## Carregando arquivos\n",
    "Pandas permite carregar (e escrever) arquivos de diversos formatos:\n",
    "- Arquivos de texto\n",
    "- Dados estruturados (JSON, XML, HTML, CSV)\n",
    "- Excel (depende das biblitoecas xlrd e  openpyxl)\n",
    "- Direto de base de dados\n",
    "  - pandas.io.sql  (read_frame)"
   ]
  },
  {
   "cell_type": "markdown",
   "metadata": {
    "id": "mjE44eODFY7C"
   },
   "source": [
    "A célula abaixo irá criar um arquivo tipo '.csv' onde os elementos das colunas são separados por vírgula (padrão para arquivos '.csv')"
   ]
  },
  {
   "cell_type": "code",
   "execution_count": null,
   "metadata": {
    "colab": {
     "base_uri": "https://localhost:8080/"
    },
    "executionInfo": {
     "elapsed": 738,
     "status": "ok",
     "timestamp": 1614610523566,
     "user": {
      "displayName": "Luis Gustavo Nonato",
      "photoUrl": "",
      "userId": "16109025348268293164"
     },
     "user_tz": 180
    },
    "id": "Q-KmHqc-FY7C",
    "outputId": "d5f1c8b8-af08-4fe0-ba1f-3e6be948e37d"
   },
   "outputs": [
    {
     "name": "stdout",
     "output_type": "stream",
     "text": [
      "Writing simple.csv\n"
     ]
    }
   ],
   "source": [
    "%%writefile simple.csv  \n",
    "a,b,c,d,message\n",
    "1,2,3,4,hello\n",
    "5,6,7,8,world\n",
    "9,10,11,12,foo"
   ]
  },
  {
   "cell_type": "code",
   "execution_count": null,
   "metadata": {
    "colab": {
     "base_uri": "https://localhost:8080/",
     "height": 176
    },
    "executionInfo": {
     "elapsed": 768,
     "status": "ok",
     "timestamp": 1614610525673,
     "user": {
      "displayName": "Luis Gustavo Nonato",
      "photoUrl": "",
      "userId": "16109025348268293164"
     },
     "user_tz": 180
    },
    "id": "Rrx_oqzVFY7C",
    "outputId": "82aba66e-3f8c-4a23-9eda-bf67ee21c33e"
   },
   "outputs": [
    {
     "name": "stdout",
     "output_type": "stream",
     "text": [
      "Rotulos das colunas\n",
      "['a' 'b' 'c' 'd' 'message']\n"
     ]
    },
    {
     "data": {
      "text/html": [
       "<div>\n",
       "<style scoped>\n",
       "    .dataframe tbody tr th:only-of-type {\n",
       "        vertical-align: middle;\n",
       "    }\n",
       "\n",
       "    .dataframe tbody tr th {\n",
       "        vertical-align: top;\n",
       "    }\n",
       "\n",
       "    .dataframe thead th {\n",
       "        text-align: right;\n",
       "    }\n",
       "</style>\n",
       "<table border=\"1\" class=\"dataframe\">\n",
       "  <thead>\n",
       "    <tr style=\"text-align: right;\">\n",
       "      <th></th>\n",
       "      <th>a</th>\n",
       "      <th>b</th>\n",
       "      <th>c</th>\n",
       "      <th>d</th>\n",
       "      <th>message</th>\n",
       "    </tr>\n",
       "  </thead>\n",
       "  <tbody>\n",
       "    <tr>\n",
       "      <th>0</th>\n",
       "      <td>1</td>\n",
       "      <td>2</td>\n",
       "      <td>3</td>\n",
       "      <td>4</td>\n",
       "      <td>hello</td>\n",
       "    </tr>\n",
       "    <tr>\n",
       "      <th>1</th>\n",
       "      <td>5</td>\n",
       "      <td>6</td>\n",
       "      <td>7</td>\n",
       "      <td>8</td>\n",
       "      <td>world</td>\n",
       "    </tr>\n",
       "    <tr>\n",
       "      <th>2</th>\n",
       "      <td>9</td>\n",
       "      <td>10</td>\n",
       "      <td>11</td>\n",
       "      <td>12</td>\n",
       "      <td>foo</td>\n",
       "    </tr>\n",
       "  </tbody>\n",
       "</table>\n",
       "</div>"
      ],
      "text/plain": [
       "   a   b   c   d message\n",
       "0  1   2   3   4   hello\n",
       "1  5   6   7   8   world\n",
       "2  9  10  11  12     foo"
      ]
     },
     "execution_count": 18,
     "metadata": {
      "tags": []
     },
     "output_type": "execute_result"
    }
   ],
   "source": [
    "# Carregar um CSV é bastante simples\n",
    "import pandas as pd # importando o pacote pandas\n",
    "\n",
    "\n",
    "df = pd.read_csv('simple.csv')  # o método read_csv carrega um arquivo no formato '.csv'\n",
    "                                # a primeira linha do arquivo se torna os rótulos das colunas\n",
    "                                # como os indices das linhas não foram especificados, são criados automaticamente\n",
    "\n",
    "print('Rotulos das colunas')\n",
    "print(df.columns.values)    # imprime o nome dos rótulos das colunas\n",
    "df.head()  # mostrando as 5 primeiras linhas"
   ]
  },
  {
   "cell_type": "code",
   "execution_count": null,
   "metadata": {
    "colab": {
     "base_uri": "https://localhost:8080/",
     "height": 173
    },
    "executionInfo": {
     "elapsed": 886,
     "status": "ok",
     "timestamp": 1614610635012,
     "user": {
      "displayName": "Luis Gustavo Nonato",
      "photoUrl": "",
      "userId": "16109025348268293164"
     },
     "user_tz": 180
    },
    "id": "fOzQHEC5FY7C",
    "outputId": "a89488f7-73b0-487b-bd6d-ce484f96e0e2"
   },
   "outputs": [
    {
     "data": {
      "text/html": [
       "<div>\n",
       "<style scoped>\n",
       "    .dataframe tbody tr th:only-of-type {\n",
       "        vertical-align: middle;\n",
       "    }\n",
       "\n",
       "    .dataframe tbody tr th {\n",
       "        vertical-align: top;\n",
       "    }\n",
       "\n",
       "    .dataframe thead th {\n",
       "        text-align: right;\n",
       "    }\n",
       "</style>\n",
       "<table border=\"1\" class=\"dataframe\">\n",
       "  <thead>\n",
       "    <tr style=\"text-align: right;\">\n",
       "      <th></th>\n",
       "      <th>c0</th>\n",
       "      <th>c1</th>\n",
       "      <th>c2</th>\n",
       "      <th>c3</th>\n",
       "      <th>c4</th>\n",
       "    </tr>\n",
       "  </thead>\n",
       "  <tbody>\n",
       "    <tr>\n",
       "      <th>0</th>\n",
       "      <td>a</td>\n",
       "      <td>b</td>\n",
       "      <td>c</td>\n",
       "      <td>d</td>\n",
       "      <td>message</td>\n",
       "    </tr>\n",
       "    <tr>\n",
       "      <th>1</th>\n",
       "      <td>1</td>\n",
       "      <td>2</td>\n",
       "      <td>3</td>\n",
       "      <td>4</td>\n",
       "      <td>hello</td>\n",
       "    </tr>\n",
       "    <tr>\n",
       "      <th>2</th>\n",
       "      <td>5</td>\n",
       "      <td>6</td>\n",
       "      <td>7</td>\n",
       "      <td>8</td>\n",
       "      <td>world</td>\n",
       "    </tr>\n",
       "    <tr>\n",
       "      <th>3</th>\n",
       "      <td>9</td>\n",
       "      <td>10</td>\n",
       "      <td>11</td>\n",
       "      <td>12</td>\n",
       "      <td>foo</td>\n",
       "    </tr>\n",
       "  </tbody>\n",
       "</table>\n",
       "</div>"
      ],
      "text/plain": [
       "  c0  c1  c2  c3       c4\n",
       "0  a   b   c   d  message\n",
       "1  1   2   3   4    hello\n",
       "2  5   6   7   8    world\n",
       "3  9  10  11  12      foo"
      ]
     },
     "execution_count": 19,
     "metadata": {
      "tags": []
     },
     "output_type": "execute_result"
    }
   ],
   "source": [
    "# Pode-se especificar os nomes das colunas, fazendo com que a primeira linha do arquivo seja parte dos dados\n",
    "df = pd.read_csv('simple.csv',\n",
    "                 names=['c0','c1','c2','c3','c4'])\n",
    "\n",
    "df.head()"
   ]
  },
  {
   "cell_type": "code",
   "execution_count": null,
   "metadata": {
    "id": "3xT-9JOZFY7C",
    "outputId": "2e9fcaa2-1eae-47b7-9a0a-155c4298992c"
   },
   "outputs": [
    {
     "data": {
      "text/html": [
       "<div>\n",
       "<style scoped>\n",
       "    .dataframe tbody tr th:only-of-type {\n",
       "        vertical-align: middle;\n",
       "    }\n",
       "\n",
       "    .dataframe tbody tr th {\n",
       "        vertical-align: top;\n",
       "    }\n",
       "\n",
       "    .dataframe thead th {\n",
       "        text-align: right;\n",
       "    }\n",
       "</style>\n",
       "<table border=\"1\" class=\"dataframe\">\n",
       "  <thead>\n",
       "    <tr style=\"text-align: right;\">\n",
       "      <th></th>\n",
       "      <th>c0</th>\n",
       "      <th>c1</th>\n",
       "      <th>c2</th>\n",
       "      <th>c3</th>\n",
       "    </tr>\n",
       "    <tr>\n",
       "      <th>c4</th>\n",
       "      <th></th>\n",
       "      <th></th>\n",
       "      <th></th>\n",
       "      <th></th>\n",
       "    </tr>\n",
       "  </thead>\n",
       "  <tbody>\n",
       "    <tr>\n",
       "      <th>message</th>\n",
       "      <td>a</td>\n",
       "      <td>b</td>\n",
       "      <td>c</td>\n",
       "      <td>d</td>\n",
       "    </tr>\n",
       "    <tr>\n",
       "      <th>hello</th>\n",
       "      <td>1</td>\n",
       "      <td>2</td>\n",
       "      <td>3</td>\n",
       "      <td>4</td>\n",
       "    </tr>\n",
       "    <tr>\n",
       "      <th>world</th>\n",
       "      <td>5</td>\n",
       "      <td>6</td>\n",
       "      <td>7</td>\n",
       "      <td>8</td>\n",
       "    </tr>\n",
       "    <tr>\n",
       "      <th>foo</th>\n",
       "      <td>9</td>\n",
       "      <td>10</td>\n",
       "      <td>11</td>\n",
       "      <td>12</td>\n",
       "    </tr>\n",
       "  </tbody>\n",
       "</table>\n",
       "</div>"
      ],
      "text/plain": [
       "        c0  c1  c2  c3\n",
       "c4                    \n",
       "message  a   b   c   d\n",
       "hello    1   2   3   4\n",
       "world    5   6   7   8\n",
       "foo      9  10  11  12"
      ]
     },
     "execution_count": 71,
     "metadata": {
      "tags": []
     },
     "output_type": "execute_result"
    }
   ],
   "source": [
    "# Pode-se fazer com que uma das colunas se torne os rótulos das linhas utilizando o parâmetro 'index_col'\n",
    "df = pd.read_csv('simple.csv',\n",
    "                 names=['c0','c1','c2','c3','c4'],\n",
    "                 index_col='c4')  # coluna 'c4' se torna rótulo das linhas\n",
    "df.head()"
   ]
  },
  {
   "cell_type": "markdown",
   "metadata": {
    "id": "A1aJKCMRFY7D"
   },
   "source": [
    "`read_csv` possui muitos outros parâmetros, veja documentação no link abaixo:\n",
    "\n",
    "[https://pandas.pydata.org/pandas-docs/stable/generated/pandas.read_csv.html](https://pandas.pydata.org/pandas-docs/stable/generated/pandas.read_csv.html)"
   ]
  }
 ],
 "metadata": {
  "colab": {
   "collapsed_sections": [
    "2hOG6c1RFY7A"
   ],
   "name": "Pandas I.ipynb",
   "provenance": []
  },
  "kernelspec": {
   "display_name": "Python 3",
   "language": "python",
   "name": "python3"
  },
  "language_info": {
   "codemirror_mode": {
    "name": "ipython",
    "version": 3
   },
   "file_extension": ".py",
   "mimetype": "text/x-python",
   "name": "python",
   "nbconvert_exporter": "python",
   "pygments_lexer": "ipython3",
   "version": "3.8.9"
  }
 },
 "nbformat": 4,
 "nbformat_minor": 1
}
