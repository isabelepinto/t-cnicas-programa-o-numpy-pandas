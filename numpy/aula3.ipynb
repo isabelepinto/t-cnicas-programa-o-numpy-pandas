{
 "cells": [
  {
   "cell_type": "markdown",
   "metadata": {},
   "source": [
    "# Pandas \n",
    "-> É uma bibliotca Python para manipulação e análise de dados. Ela é construída com base em Numpy e MatPlotLib\n",
    "-> A bib Pandas usa muito as estruturas de: DataFrame, Series e Panel(paineis)\n",
    "\n",
    "* Series - é uma simplificação de um DataFrame, muito semelhante a um array unidimensional, porém os elementos podem ser indexados por números(índices) ou por nomes(labels). Esses labels não precisam ser únicos e podem ser organizados de forma hierárquica.\n",
    "\n",
    "\n"
   ]
  },
  {
   "cell_type": "code",
   "execution_count": 1,
   "metadata": {},
   "outputs": [],
   "source": [
    "import pandas as pd"
   ]
  },
  {
   "cell_type": "code",
   "execution_count": 21,
   "metadata": {},
   "outputs": [
    {
     "name": "stdout",
     "output_type": "stream",
     "text": [
      "0     banana\n",
      "1    laranja\n",
      "2    abacate\n",
      "3        uva\n",
      "dtype: object\n",
      "0     2\n",
      "1     3\n",
      "2     4\n",
      "3    70\n",
      "4    43\n",
      "5    54\n",
      "dtype: int64\n"
     ]
    }
   ],
   "source": [
    "# criando uma series\n",
    "lista = ['banana', 'laranja', 'abacate', 'uva']\n",
    "lista2 = [2,3,4,70,43,54]\n",
    "series = pd.Series(lista)\n",
    "series2 = pd.Series(lista2)\n",
    "print(series)\n",
    "print(series2)"
   ]
  }
 ],
 "metadata": {
  "kernelspec": {
   "display_name": "base",
   "language": "python",
   "name": "python3"
  },
  "language_info": {
   "codemirror_mode": {
    "name": "ipython",
    "version": 3
   },
   "file_extension": ".py",
   "mimetype": "text/x-python",
   "name": "python",
   "nbconvert_exporter": "python",
   "pygments_lexer": "ipython3",
   "version": "3.10.9"
  },
  "orig_nbformat": 4
 },
 "nbformat": 4,
 "nbformat_minor": 2
}
