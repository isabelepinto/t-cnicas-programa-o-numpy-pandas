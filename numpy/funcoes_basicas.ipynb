{
 "cells": [
  {
   "cell_type": "markdown",
   "metadata": {},
   "source": [
    "# Guia de Introdução ao NumPy\n",
    "\n",
    "NumPy, que significa Numerical Python, é uma biblioteca fundamental para a computação científica em Python. Ela fornece suporte para arrays e matrizes, além de funções matemáticas para operações com esses objetos. É, também, a base da biblioteca Pandas.\n",
    "\n"
   ]
  },
  {
   "cell_type": "markdown",
   "metadata": {},
   "source": [
    "## Aplicações do dia a dia\n",
    "\n",
    "Vamos supor que você trabalha em uma empresa de vendas e tem os preços de diferentes produtos em uma lista. Você quer aumentar o preço de todos os produtos em 10%. Com NumPy, isso é simples.\n",
    "\n"
   ]
  },
  {
   "cell_type": "code",
   "execution_count": 1,
   "metadata": {
    "ExecuteTime": {
     "end_time": "2023-07-03T19:00:02.096368900Z",
     "start_time": "2023-07-03T19:00:01.993018200Z"
    },
    "collapsed": false,
    "jupyter": {
     "outputs_hidden": false
    }
   },
   "outputs": [
    {
     "name": "stdout",
     "output_type": "stream",
     "text": [
      "[22.  27.5 33.  38.5 44. ]\n"
     ]
    }
   ],
   "source": [
    "import numpy as np\n",
    "\n",
    "# Preços dos produtos\n",
    "precos = np.array([20, 25, 30, 35, 40])\n",
    "\n",
    "# Aumentar os preços em 10 % (ex.: ajuste de inflação)\n",
    "novos_precos = precos * 1.10\n",
    "print(novos_precos)"
   ]
  },
  {
   "cell_type": "markdown",
   "metadata": {},
   "source": [
    "## np.sum()\n",
    "\n",
    "NumPy vem com muitas funções úteis. Por exemplo, você pode usar a função `sum()` para somar todos os elementos de um array. Isso pode ser útil para somar todas as vendas de um dia, por exemplo.\n",
    "\n"
   ]
  },
  {
   "cell_type": "code",
   "execution_count": 2,
   "metadata": {
    "ExecuteTime": {
     "end_time": "2023-07-03T19:00:02.114631Z",
     "start_time": "2023-07-03T19:00:02.098862600Z"
    },
    "collapsed": false,
    "jupyter": {
     "outputs_hidden": false
    }
   },
   "outputs": [
    {
     "name": "stdout",
     "output_type": "stream",
     "text": [
      "1180\n"
     ]
    }
   ],
   "source": [
    "import numpy as np\n",
    "\n",
    "# Vendas do dia\n",
    "vendas = np.array([200, 220, 250, 210, 300])\n",
    "\n",
    "# Somar todas as vendas\n",
    "total_vendas = np.sum(vendas)\n",
    "print(total_vendas)"
   ]
  },
  {
   "cell_type": "markdown",
   "metadata": {},
   "source": [
    "## np.mean()\n",
    "\n",
    "A função `mean()` é usada para calcular a média de um array. Por exemplo, se você quiser calcular a média de vendas diárias em uma semana.\n"
   ]
  },
  {
   "cell_type": "code",
   "execution_count": 3,
   "metadata": {
    "ExecuteTime": {
     "end_time": "2023-07-03T19:00:02.156169700Z",
     "start_time": "2023-07-03T19:00:02.112124500Z"
    },
    "collapsed": false,
    "jupyter": {
     "outputs_hidden": false
    }
   },
   "outputs": [
    {
     "name": "stdout",
     "output_type": "stream",
     "text": [
      "241.42857142857142\n"
     ]
    }
   ],
   "source": [
    "import numpy as np\n",
    "\n",
    "# Vendas diárias em uma semana\n",
    "vendas = np.array([200, 220, 250, 210, 300, 280, 230])\n",
    "\n",
    "# Calcular a média de vendas\n",
    "media_vendas = np.mean(vendas)\n",
    "print(media_vendas)"
   ]
  },
  {
   "cell_type": "markdown",
   "metadata": {},
   "source": [
    "## np.max() e np.min()\n",
    "\n",
    "As funções `max()` e `min()` são usadas para encontrar o valor máximo e mínimo em um array, respectivamente. Por exemplo, para encontrar o produto mais caro e mais barato.\n",
    "\n"
   ]
  },
  {
   "cell_type": "code",
   "execution_count": 4,
   "metadata": {
    "ExecuteTime": {
     "end_time": "2023-07-03T19:00:02.156169700Z",
     "start_time": "2023-07-03T19:00:02.128951400Z"
    },
    "collapsed": false,
    "jupyter": {
     "outputs_hidden": false
    }
   },
   "outputs": [
    {
     "name": "stdout",
     "output_type": "stream",
     "text": [
      "40 20\n"
     ]
    }
   ],
   "source": [
    "import numpy as np\n",
    "\n",
    "# Preços dos produtos\n",
    "precos = np.array([20, 25, 30, 35, 40])\n",
    "\n",
    "# Encontrar o produto mais caro e mais barato\n",
    "produto_mais_caro = np.max(precos)\n",
    "produto_mais_barato = np.min(precos)\n",
    "print(produto_mais_caro, produto_mais_barato)"
   ]
  },
  {
   "cell_type": "markdown",
   "metadata": {},
   "source": [
    "## np.sort()\n",
    "\n",
    "A função `sort()` é usada para ordenar os elementos de um array. Por exemplo, para ordenar as vendas diárias.\n",
    "\n"
   ]
  },
  {
   "cell_type": "code",
   "execution_count": 5,
   "metadata": {
    "ExecuteTime": {
     "end_time": "2023-07-03T19:00:02.165578300Z",
     "start_time": "2023-07-03T19:00:02.145146900Z"
    },
    "collapsed": false,
    "jupyter": {
     "outputs_hidden": false
    }
   },
   "outputs": [
    {
     "name": "stdout",
     "output_type": "stream",
     "text": [
      "[200 210 220 250 300]\n"
     ]
    }
   ],
   "source": [
    "import numpy as np\n",
    "\n",
    "# Vendas diárias\n",
    "vendas = np.array([200, 220, 250, 210, 300])\n",
    "\n",
    "# Ordenar as vendas\n",
    "vendas_ordenadas = np.sort(vendas)\n",
    "print(vendas_ordenadas)\n"
   ]
  },
  {
   "cell_type": "markdown",
   "metadata": {},
   "source": [
    "## np.dot()\n",
    "\n",
    "A função `np.dot()` é usada para calcular o produto escalar de dois arrays. Por exemplo, em uma empresa de varejo, você pode querer calcular o valor total de vendas, dado o número de cada produto vendido e o preço de cada produto.\n"
   ]
  },
  {
   "cell_type": "code",
   "execution_count": 6,
   "metadata": {
    "ExecuteTime": {
     "end_time": "2023-07-03T19:00:02.183839Z",
     "start_time": "2023-07-03T19:00:02.158170300Z"
    },
    "collapsed": false,
    "jupyter": {
     "outputs_hidden": false
    }
   },
   "outputs": [],
   "source": [
    "import numpy as np\n",
    "\n",
    "# Número de produtos vendidos\n",
    "quantidades = np.array([10, 20, 30, 40])\n",
    "\n",
    "# Preços dos produtos\n",
    "precos = np.array([5, 10, 15, 20])\n",
    "\n",
    "# Calcular o valor total de vendas?"
   ]
  },
  {
   "cell_type": "code",
   "execution_count": 7,
   "metadata": {
    "ExecuteTime": {
     "end_time": "2023-07-03T19:00:02.219520300Z",
     "start_time": "2023-07-03T19:00:02.174584300Z"
    },
    "collapsed": false,
    "jupyter": {
     "outputs_hidden": false
    }
   },
   "outputs": [
    {
     "name": "stdout",
     "output_type": "stream",
     "text": [
      "[ 50 200 450 800]\n"
     ]
    }
   ],
   "source": [
    "print(quantidades * precos)"
   ]
  },
  {
   "cell_type": "code",
   "execution_count": 8,
   "metadata": {
    "ExecuteTime": {
     "end_time": "2023-07-03T19:00:02.252930100Z",
     "start_time": "2023-07-03T19:00:02.190027200Z"
    },
    "collapsed": false,
    "jupyter": {
     "outputs_hidden": false
    }
   },
   "outputs": [
    {
     "name": "stdout",
     "output_type": "stream",
     "text": [
      "1500\n"
     ]
    }
   ],
   "source": [
    "print(np.sum(quantidades * precos))"
   ]
  },
  {
   "cell_type": "code",
   "execution_count": 9,
   "metadata": {
    "ExecuteTime": {
     "end_time": "2023-07-03T19:00:02.253920200Z",
     "start_time": "2023-07-03T19:00:02.205932500Z"
    },
    "collapsed": false,
    "jupyter": {
     "outputs_hidden": false
    }
   },
   "outputs": [
    {
     "name": "stdout",
     "output_type": "stream",
     "text": [
      "1500\n"
     ]
    }
   ],
   "source": [
    "total_vendas = np.dot(quantidades, precos)\n",
    "print(total_vendas)\n"
   ]
  }
 ],
 "metadata": {
  "kernelspec": {
   "display_name": "Python 3 (ipykernel)",
   "language": "python",
   "name": "python3"
  },
  "language_info": {
   "codemirror_mode": {
    "name": "ipython",
    "version": 3
   },
   "file_extension": ".py",
   "mimetype": "text/x-python",
   "name": "python",
   "nbconvert_exporter": "python",
   "pygments_lexer": "ipython3",
   "version": "3.10.11"
  }
 },
 "nbformat": 4,
 "nbformat_minor": 4
}
