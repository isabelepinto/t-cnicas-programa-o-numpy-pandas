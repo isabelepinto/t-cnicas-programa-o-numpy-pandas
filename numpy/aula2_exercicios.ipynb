{
 "cells": [
  {
   "cell_type": "markdown",
   "metadata": {},
   "source": [
    "## <span style=\"color:blue\">Numpy Parte I - Exercícios</span>\n",
    "**Maurício Luiz Sobrinho**<br>"
   ]
  },
  {
   "cell_type": "markdown",
   "metadata": {},
   "source": [
    "#### <span style=\"color:red\">Recomenda-se fortemente que os exercícios sejam feitos sem consultar as respostas antecipadamente.</span>"
   ]
  },
  {
   "cell_type": "code",
   "execution_count": 1,
   "metadata": {},
   "outputs": [],
   "source": [
    "import numpy as np"
   ]
  },
  {
   "cell_type": "markdown",
   "metadata": {},
   "source": [
    "### Exercício 1)\n",
    "Construa um array unidimensional com 30 números inteiros escolhidos de forma randômica no intervalo entre 0 e 20. Reformate o array para que se torne uma matriz `A` com 5 linhas e 6 colunas."
   ]
  },
  {
   "cell_type": "code",
   "execution_count": 21,
   "metadata": {},
   "outputs": [
    {
     "name": "stdout",
     "output_type": "stream",
     "text": [
      "(30,)\n",
      "(5, 6)\n",
      "array: \n",
      " [[ 9  4  2  5  8 20]\n",
      " [13  9 16 16  9 17]\n",
      " [20  4 16 11  4  6]\n",
      " [ 0  6 20 14 17  8]\n",
      " [20  4 13  1 10  0]]\n"
     ]
    }
   ],
   "source": [
    "array_1d = np.random.randint(0,21,30)\n",
    "print(array_1d.shape)\n",
    "array = array_1d.reshape(5,6)\n",
    "print(array.shape)\n",
    "print('array: \\n', array)"
   ]
  },
  {
   "cell_type": "markdown",
   "metadata": {},
   "source": [
    "### Exercício 2)\n",
    "Crie uma __view__ da matriz `A` gerada na célula anterior contendo:\n",
    "- as linhas de `A` com índices 0,1 e 3\n",
    "- as linhas de `A` com índice 1 e 2 e as colunas com índice 0,2 e 4\n",
    "- as linhas de `A` com índice 1 e 3 e as colunas com índice 1 e 3"
   ]
  },
  {
   "cell_type": "code",
   "execution_count": 33,
   "metadata": {},
   "outputs": [
    {
     "name": "stdout",
     "output_type": "stream",
     "text": [
      "[[ 9  4  2  5  8 20]\n",
      " [13  9 16 16  9 17]\n",
      " [20  4 16 11  4  6]\n",
      " [ 0  6 20 14 17  8]\n",
      " [20  4 13  1 10  0]]\n",
      "view1: \n",
      " [[ 9  4  2  5  8 20]\n",
      " [13  9 16 16  9 17]\n",
      " [ 0  6 20 14 17  8]]\n",
      "view2: \n",
      " [[13 16  9]\n",
      " [20 16  4]]\n",
      "view3: \n",
      " [[ 9 16]\n",
      " [ 6 14]]\n"
     ]
    }
   ],
   "source": [
    "print(array)\n",
    "# criando view 1 com linhas 0, 1 e 3\n",
    "view1 = array.copy()\n",
    "view1 = view1[[0, 1, 3],]\n",
    "print('view1: \\n',view1)\n",
    "\n",
    "# criando view 2 com linhas 1 e 2, e somente colunas 0, 2, 4\n",
    "view2 = array.copy()\n",
    "view2 = view2[1:3,[0, 2, 4]]\n",
    "print('view2: \\n',view2)\n",
    "\n",
    "# criando view 3 com linhas 1 e 3, e somente colunas 1 e 3\n",
    "view3 = array.copy()\n",
    "#view3 = view3[[1,3],[1,3]]\n",
    "view3 = view3[[1, 3]][:, [1, 3]]\n",
    "print('view3: \\n',view3)"
   ]
  },
  {
   "cell_type": "markdown",
   "metadata": {},
   "source": [
    "### Exercício 3)\n",
    "Construa um array `A` bidimensional 5x6 com 30 números inteiros escolhidos de forma randômica no intervalo entre 0 e 20. \n",
    "- faça uma cópia do array `A` criado, chamando a cópia de `Ac`\n",
    "- Substitua todos os elementos do array `A` que sejam maiores que 10 pelo valor -1 \n",
    "- Substitua todos os elementos do array `Ac` que sejam maiores que 7 e menores que 15 pelo valor -1 \n",
    "\n",
    "__Dica:__ Gere máscaras booleanas para realizar as modificações nos arrays."
   ]
  },
  {
   "cell_type": "code",
   "execution_count": 43,
   "metadata": {},
   "outputs": [
    {
     "name": "stdout",
     "output_type": "stream",
     "text": [
      "array A com alteração dos valores maiores que 10 para \"-1\":\n",
      " [[ 9  4  2  5  8 -1]\n",
      " [-1  9 -1 -1  9 -1]\n",
      " [-1  4 -1 -1  4  6]\n",
      " [ 0  6 -1 -1 -1  8]\n",
      " [-1  4 -1  1 10  0]]\n",
      "\n",
      "\n",
      "array AC com alteração dos valores maiores que 17 e menores que 15 para \"-1\":\n",
      " [[ 9  4  2  5  8 -1]\n",
      " [-1  9 -1 -1  9 -1]\n",
      " [-1  4 -1 -1  4  6]\n",
      " [ 0  6 -1 -1 -1  8]\n",
      " [-1  4 -1  1 10  0]]\n"
     ]
    }
   ],
   "source": [
    "mask_maior10 = array > 10\n",
    "array[mask_maior10] = -1\n",
    "print('array A com alteração dos valores maiores que 10 para \"-1\":\\n',array)\n",
    "\n",
    "ac = array.copy()\n",
    "mask_entre_7e15 = (ac > 7) & (ac < 15)\n",
    "ac[mask_entre_7e15] = -1\n",
    "print('\\n\\narray AC com alteração dos valores maiores que 17 e menores que 15 para \"-1\":\\n',array)\n"
   ]
  },
  {
   "cell_type": "markdown",
   "metadata": {},
   "source": [
    "### Exercício 4)\n",
    "Construa um array `A` com 20 linhas e 10 colunas onde os elementos são os números interios de  1 até 200.\n",
    "- Crie uma __view__ de `A` chamada `A_lpares` contendo apenas as linhas de `A` com índice par. \n",
    "- Crie uma __view__ de `A` chamada `A_lpares_cimpares` contendo as linhas `A` com índice par e colunas com índice ímpar. "
   ]
  },
  {
   "cell_type": "code",
   "execution_count": null,
   "metadata": {},
   "outputs": [],
   "source": []
  },
  {
   "cell_type": "markdown",
   "metadata": {},
   "source": [
    "### Exercício 5)\n",
    "Substitua os elememtos do array `A` do exercício anterior por -1 quando pelo menos um dos índices do elemento é par. \n",
    "\n",
    "__Dica:__ Construa uma máscara booleana"
   ]
  },
  {
   "cell_type": "code",
   "execution_count": null,
   "metadata": {},
   "outputs": [],
   "source": []
  },
  {
   "cell_type": "markdown",
   "metadata": {},
   "source": [
    "### Exercício 6)\n",
    "Considere o array `X` de números tipo <font color='blue'>float</font> gerado a partir de uma distribuição uniforme no intervalo entre 0 e 1. Escreva um código para encontrar os três menores valores do array.\n",
    "\n",
    "__Dica:__ Converta o array em uma lista e ordene."
   ]
  },
  {
   "cell_type": "code",
   "execution_count": null,
   "metadata": {},
   "outputs": [],
   "source": []
  },
  {
   "cell_type": "markdown",
   "metadata": {},
   "source": [
    "### Exercício 7)\n",
    "Escreva uma função chamada `troca_colunas` que recebe um array e o índice de duas colunas como parâmetros e retorna o array com as colunas trocadas. Por exemplo:\n",
    "```python\n",
    "X = np.array([[0, 1, 2, 3, 4, 5], \n",
    "              [0, 1, 2, 3, 4, 5], \n",
    "              [0, 1, 2, 3, 4, 5]])\n",
    "\n",
    "X = troca_colunas(X,1,3)\n",
    "print(X)\n",
    "```\n",
    "deve resultar em\n",
    "```python\n",
    "[[0 3 2 1 4 5]\n",
    " [0 3 2 1 4 5]\n",
    " [0 3 2 1 4 5]]\n",
    "```\n"
   ]
  },
  {
   "cell_type": "code",
   "execution_count": null,
   "metadata": {},
   "outputs": [],
   "source": []
  },
  {
   "cell_type": "code",
   "execution_count": null,
   "metadata": {},
   "outputs": [],
   "source": []
  },
  {
   "cell_type": "markdown",
   "metadata": {},
   "source": [
    "### Exercício 8)\n",
    "Escreva um código para, data uma matriz, zerar todos os elementos abaixo da diagonal principal da matriz. Por exemplo:\n",
    "```python\n",
    "[[2 8 3 4 8]\n",
    " [4 8 7 7 3]\n",
    " [8 2 3 1 4]\n",
    " [8 6 3 8 1]\n",
    " [6 4 4 6 1]]\n",
    "```\n",
    "deve resultar em\n",
    "```python\n",
    "[[2 8 3 4 8]\n",
    " [0 8 7 7 3]\n",
    " [0 0 3 1 4]\n",
    " [0 0 0 8 1]\n",
    " [0 0 0 0 1]]\n",
    "```"
   ]
  },
  {
   "cell_type": "code",
   "execution_count": null,
   "metadata": {},
   "outputs": [],
   "source": []
  }
 ],
 "metadata": {
  "kernelspec": {
   "display_name": "Python 3 (ipykernel)",
   "language": "python",
   "name": "python3"
  },
  "language_info": {
   "codemirror_mode": {
    "name": "ipython",
    "version": 3
   },
   "file_extension": ".py",
   "mimetype": "text/x-python",
   "name": "python",
   "nbconvert_exporter": "python",
   "pygments_lexer": "ipython3",
   "version": "3.10.9"
  }
 },
 "nbformat": 4,
 "nbformat_minor": 2
}
