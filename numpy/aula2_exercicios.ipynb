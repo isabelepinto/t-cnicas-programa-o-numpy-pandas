{
 "cells": [
  {
   "cell_type": "markdown",
   "metadata": {},
   "source": [
    "## <span style=\"color:blue\">Numpy Parte I - Exercícios</span>\n",
    "**Maurício Luiz Sobrinho**<br>"
   ]
  },
  {
   "cell_type": "markdown",
   "metadata": {},
   "source": [
    "#### <span style=\"color:red\">Recomenda-se fortemente que os exercícios sejam feitos sem consultar as respostas antecipadamente.</span>"
   ]
  },
  {
   "cell_type": "code",
   "execution_count": 1,
   "metadata": {},
   "outputs": [],
   "source": [
    "import numpy as np"
   ]
  },
  {
   "cell_type": "markdown",
   "metadata": {},
   "source": [
    "### Exercício 1)\n",
    "Construa um array unidimensional com 30 números inteiros escolhidos de forma randômica no intervalo entre 0 e 20. Reformate o array para que se torne uma matriz `A` com 5 linhas e 6 colunas."
   ]
  },
  {
   "cell_type": "code",
   "execution_count": 2,
   "metadata": {},
   "outputs": [
    {
     "name": "stdout",
     "output_type": "stream",
     "text": [
      "(30,)\n",
      "(5, 6)\n",
      "array: \n",
      " [[10 16  7 11 15 19]\n",
      " [15  0 14  0  6  0]\n",
      " [ 1  9 17  5  4 17]\n",
      " [ 1 11 19  5 18  9]\n",
      " [11  6 16 12 15  9]]\n"
     ]
    }
   ],
   "source": [
    "array_1d = np.random.randint(0,21,30)\n",
    "print(array_1d.shape)\n",
    "array = array_1d.reshape(5,6)\n",
    "print(array.shape)\n",
    "print('array: \\n', array)"
   ]
  },
  {
   "cell_type": "markdown",
   "metadata": {},
   "source": [
    "### Exercício 2)\n",
    "Crie uma __view__ da matriz `A` gerada na célula anterior contendo:\n",
    "- as linhas de `A` com índices 0,1 e 3\n",
    "- as linhas de `A` com índice 1 e 2 e as colunas com índice 0,2 e 4\n",
    "- as linhas de `A` com índice 1 e 3 e as colunas com índice 1 e 3"
   ]
  },
  {
   "cell_type": "code",
   "execution_count": 3,
   "metadata": {},
   "outputs": [
    {
     "name": "stdout",
     "output_type": "stream",
     "text": [
      "[[10 16  7 11 15 19]\n",
      " [15  0 14  0  6  0]\n",
      " [ 1  9 17  5  4 17]\n",
      " [ 1 11 19  5 18  9]\n",
      " [11  6 16 12 15  9]]\n",
      "view1: \n",
      " [[10 16  7 11 15 19]\n",
      " [15  0 14  0  6  0]\n",
      " [ 1 11 19  5 18  9]]\n",
      "view2: \n",
      " [[15 14  6]\n",
      " [ 1 17  4]]\n",
      "view3: \n",
      " [[ 0  0]\n",
      " [11  5]]\n"
     ]
    }
   ],
   "source": [
    "print(array)\n",
    "# criando view 1 com linhas 0, 1 e 3\n",
    "view1 = array.copy()\n",
    "view1 = view1[[0, 1, 3],]\n",
    "print('view1: \\n',view1)\n",
    "\n",
    "# criando view 2 com linhas 1 e 2, e somente colunas 0, 2, 4\n",
    "view2 = array.copy()\n",
    "view2 = view2[1:3,[0, 2, 4]]\n",
    "print('view2: \\n',view2)\n",
    "\n",
    "# criando view 3 com linhas 1 e 3, e somente colunas 1 e 3\n",
    "view3 = array.copy()\n",
    "#view3 = view3[[1,3],[1,3]]\n",
    "view3 = view3[[1, 3]][:, [1, 3]]\n",
    "print('view3: \\n',view3)"
   ]
  },
  {
   "cell_type": "markdown",
   "metadata": {},
   "source": [
    "### Exercício 3)\n",
    "Construa um array `A` bidimensional 5x6 com 30 números inteiros escolhidos de forma randômica no intervalo entre 0 e 20. \n",
    "- faça uma cópia do array `A` criado, chamando a cópia de `Ac`\n",
    "- Substitua todos os elementos do array `A` que sejam maiores que 10 pelo valor -1 \n",
    "- Substitua todos os elementos do array `Ac` que sejam maiores que 7 e menores que 15 pelo valor -1 \n",
    "\n",
    "__Dica:__ Gere máscaras booleanas para realizar as modificações nos arrays."
   ]
  },
  {
   "cell_type": "code",
   "execution_count": 4,
   "metadata": {},
   "outputs": [
    {
     "name": "stdout",
     "output_type": "stream",
     "text": [
      "array A com alteração dos valores maiores que 10 para \"-1\":\n",
      " [[10 -1  7 -1 -1 -1]\n",
      " [-1  0 -1  0  6  0]\n",
      " [ 1  9 -1  5  4 -1]\n",
      " [ 1 -1 -1  5 -1  9]\n",
      " [-1  6 -1 -1 -1  9]]\n",
      "\n",
      "\n",
      "array AC com alteração dos valores maiores que 17 e menores que 15 para \"-1\":\n",
      " [[10 -1  7 -1 -1 -1]\n",
      " [-1  0 -1  0  6  0]\n",
      " [ 1  9 -1  5  4 -1]\n",
      " [ 1 -1 -1  5 -1  9]\n",
      " [-1  6 -1 -1 -1  9]]\n"
     ]
    }
   ],
   "source": [
    "mask_maior10 = array > 10\n",
    "array[mask_maior10] = -1\n",
    "print('array A com alteração dos valores maiores que 10 para \"-1\":\\n',array)\n",
    "\n",
    "ac = array.copy()\n",
    "mask_entre_7e15 = (ac > 7) & (ac < 15)\n",
    "ac[mask_entre_7e15] = -1\n",
    "print('\\n\\narray AC com alteração dos valores maiores que 17 e menores que 15 para \"-1\":\\n',array)\n"
   ]
  },
  {
   "cell_type": "markdown",
   "metadata": {},
   "source": [
    "### Exercício 4)\n",
    "Construa um array `A` com 20 linhas e 10 colunas onde os elementos são os números interios de  1 até 200.\n",
    "- Crie uma __view__ de `A` chamada `A_lpares` contendo apenas as linhas de `A` com índice par. \n",
    "- Crie uma __view__ de `A` chamada `A_lpares_cimpares` contendo as linhas `A` com índice par e colunas com índice ímpar. "
   ]
  },
  {
   "cell_type": "code",
   "execution_count": 47,
   "metadata": {},
   "outputs": [
    {
     "name": "stdout",
     "output_type": "stream",
     "text": [
      "array A original:\n",
      "[[  1   2   3   4   5   6   7   8   9  10]\n",
      " [ 11  12  13  14  15  16  17  18  19  20]\n",
      " [ 21  22  23  24  25  26  27  28  29  30]\n",
      " [ 31  32  33  34  35  36  37  38  39  40]\n",
      " [ 41  42  43  44  45  46  47  48  49  50]\n",
      " [ 51  52  53  54  55  56  57  58  59  60]\n",
      " [ 61  62  63  64  65  66  67  68  69  70]\n",
      " [ 71  72  73  74  75  76  77  78  79  80]\n",
      " [ 81  82  83  84  85  86  87  88  89  90]\n",
      " [ 91  92  93  94  95  96  97  98  99 100]\n",
      " [101 102 103 104 105 106 107 108 109 110]\n",
      " [111 112 113 114 115 116 117 118 119 120]\n",
      " [121 122 123 124 125 126 127 128 129 130]\n",
      " [131 132 133 134 135 136 137 138 139 140]\n",
      " [141 142 143 144 145 146 147 148 149 150]\n",
      " [151 152 153 154 155 156 157 158 159 160]\n",
      " [161 162 163 164 165 166 167 168 169 170]\n",
      " [171 172 173 174 175 176 177 178 179 180]\n",
      " [181 182 183 184 185 186 187 188 189 190]\n",
      " [191 192 193 194 195 196 197 198 199 200]] \n",
      "\n",
      "View A_lpares:\n",
      "[[  1   2   3   4   5   6   7   8   9  10]\n",
      " [ 21  22  23  24  25  26  27  28  29  30]\n",
      " [ 41  42  43  44  45  46  47  48  49  50]\n",
      " [ 61  62  63  64  65  66  67  68  69  70]\n",
      " [ 81  82  83  84  85  86  87  88  89  90]\n",
      " [101 102 103 104 105 106 107 108 109 110]\n",
      " [121 122 123 124 125 126 127 128 129 130]\n",
      " [141 142 143 144 145 146 147 148 149 150]\n",
      " [161 162 163 164 165 166 167 168 169 170]\n",
      " [181 182 183 184 185 186 187 188 189 190]] \n",
      "\n",
      "View A_lpares_cimpares:\n",
      "[[  2   4   6   8  10]\n",
      " [ 22  24  26  28  30]\n",
      " [ 42  44  46  48  50]\n",
      " [ 62  64  66  68  70]\n",
      " [ 82  84  86  88  90]\n",
      " [102 104 106 108 110]\n",
      " [122 124 126 128 130]\n",
      " [142 144 146 148 150]\n",
      " [162 164 166 168 170]\n",
      " [182 184 186 188 190]]\n"
     ]
    }
   ],
   "source": [
    "array_a = np.arange(1,201).reshape(20,10)\n",
    "\n",
    "#indices_lpares = [indice for indice in range(0, 20) if indice % 2 == 0]\n",
    "a_lpares = array_a[::2]\n",
    "\n",
    "a_lpares_cimpares = array_a[::2, 1::2]\n",
    "\n",
    "print(f'array A original:\\n{array_a} \\n\\nView A_lpares:\\n{a_lpares} \\n\\nView A_lpares_cimpares:\\n{a_lpares_cimpares}')"
   ]
  },
  {
   "cell_type": "markdown",
   "metadata": {},
   "source": [
    "### Exercício 5)\n",
    "Substitua os elememtos do array `A` do exercício anterior por -1 quando pelo menos um dos índices do elemento é par. \n",
    "\n",
    "__Dica:__ Construa uma máscara booleana"
   ]
  },
  {
   "cell_type": "code",
   "execution_count": 67,
   "metadata": {},
   "outputs": [
    {
     "name": "stdout",
     "output_type": "stream",
     "text": [
      "[[ -1  -1  -1  -1  -1  -1  -1  -1  -1  -1]\n",
      " [ -1  12  -1  14  -1  16  -1  18  -1  20]\n",
      " [ -1  -1  -1  -1  -1  -1  -1  -1  -1  -1]\n",
      " [ -1  32  -1  34  -1  36  -1  38  -1  40]\n",
      " [ -1  -1  -1  -1  -1  -1  -1  -1  -1  -1]\n",
      " [ -1  52  -1  54  -1  56  -1  58  -1  60]\n",
      " [ -1  -1  -1  -1  -1  -1  -1  -1  -1  -1]\n",
      " [ -1  72  -1  74  -1  76  -1  78  -1  80]\n",
      " [ -1  -1  -1  -1  -1  -1  -1  -1  -1  -1]\n",
      " [ -1  92  -1  94  -1  96  -1  98  -1 100]\n",
      " [ -1  -1  -1  -1  -1  -1  -1  -1  -1  -1]\n",
      " [ -1 112  -1 114  -1 116  -1 118  -1 120]\n",
      " [ -1  -1  -1  -1  -1  -1  -1  -1  -1  -1]\n",
      " [ -1 132  -1 134  -1 136  -1 138  -1 140]\n",
      " [ -1  -1  -1  -1  -1  -1  -1  -1  -1  -1]\n",
      " [ -1 152  -1 154  -1 156  -1 158  -1 160]\n",
      " [ -1  -1  -1  -1  -1  -1  -1  -1  -1  -1]\n",
      " [ -1 172  -1 174  -1 176  -1 178  -1 180]\n",
      " [ -1  -1  -1  -1  -1  -1  -1  -1  -1  -1]\n",
      " [ -1 192  -1 194  -1 196  -1 198  -1 200]]\n"
     ]
    }
   ],
   "source": [
    "\"\"\"\n",
    "mask_lpares = array_a[::2,:]\n",
    "mask_cpares = array_a[:,::2]\n",
    "\n",
    "mask = mask_lpares or mask_cpares\n",
    "array_a[mask] = -1\n",
    "\n",
    "print(array_a)\"\"\"\n",
    "\n",
    "# Criar máscara para linhas de índice par\n",
    "mask_lpares = np.zeros_like(array_a, dtype=bool)\n",
    "mask_lpares[::2, :] = True\n",
    "\n",
    "# Criar máscara para colunas de índice par\n",
    "mask_cpares = np.zeros_like(array_a, dtype=bool)\n",
    "mask_cpares[:, ::2] = True\n",
    "\n",
    "# Combinar as máscaras usando a operação lógica OR\n",
    "mask = np.logical_or(mask_lpares, mask_cpares)\n",
    "\n",
    "# Substituir elementos por -1 onde a máscara for True\n",
    "array_a[mask] = -1\n",
    "\n",
    "print(array_a)\n"
   ]
  },
  {
   "cell_type": "markdown",
   "metadata": {},
   "source": [
    "### Exercício 6)\n",
    "Considere o array `X` de números tipo <font color='blue'>float</font> gerado a partir de uma distribuição uniforme no intervalo entre 0 e 1. Escreva um código para encontrar os três menores valores do array.\n",
    "\n",
    "__Dica:__ Converta o array em uma lista e ordene."
   ]
  },
  {
   "cell_type": "code",
   "execution_count": 14,
   "metadata": {},
   "outputs": [
    {
     "name": "stdout",
     "output_type": "stream",
     "text": [
      "Os 3 menores valores do array x: \n",
      "[0.29113278 0.45691849 0.9255552  0.5091338  0.89607334 0.81223145\n",
      " 0.03131804 0.69299696]\n",
      "São:\n",
      "[0.031318040170038586, 0.2911327760447351, 0.45691848731637863]\n"
     ]
    }
   ],
   "source": [
    "x = np.random.uniform(0,1,8)\n",
    "lista_x = list(x)\n",
    "lista_ordenada = sorted(lista_x)\n",
    "print(f'Os 3 menores valores do array x: \\n{x}\\nSão:\\n{lista_ordenada[0:3]}')"
   ]
  },
  {
   "cell_type": "markdown",
   "metadata": {},
   "source": [
    "### Exercício 7)\n",
    "Escreva uma função chamada `troca_colunas` que recebe um array e o índice de duas colunas como parâmetros e retorna o array com as colunas trocadas. Por exemplo:\n",
    "```python\n",
    "X = np.array([[0, 1, 2, 3, 4, 5], \n",
    "              [0, 1, 2, 3, 4, 5], \n",
    "              [0, 1, 2, 3, 4, 5]])\n",
    "\n",
    "X = troca_colunas(X,1,3)\n",
    "print(X)\n",
    "```\n",
    "deve resultar em\n",
    "```python\n",
    "[[0 3 2 1 4 5]\n",
    " [0 3 2 1 4 5]\n",
    " [0 3 2 1 4 5]]\n",
    "```\n"
   ]
  },
  {
   "cell_type": "code",
   "execution_count": 18,
   "metadata": {},
   "outputs": [
    {
     "data": {
      "text/plain": [
       "array([[0, 3, 2, 1, 4, 5],\n",
       "       [0, 3, 2, 1, 4, 5],\n",
       "       [0, 3, 2, 1, 4, 5]])"
      ]
     },
     "execution_count": 18,
     "metadata": {},
     "output_type": "execute_result"
    }
   ],
   "source": [
    "def troca_colunas(array, coluna1, coluna2):\n",
    "    \"\"\"função para realizar a troca de valores entre duas colunas de um mesmo array\n",
    "\n",
    "    Args:\n",
    "        array (array): o array no qual será feita a modificação\n",
    "        coluna1 (int): o indice da coluna que será trocada\n",
    "        coluna2 (int): o indice da outra coluna que será trocada\n",
    "    \"\"\"\n",
    "    array2 = array.copy()\n",
    "    valores1 = array2[:,coluna1]\n",
    "    valores2 = array2[:,coluna2]\n",
    "    \n",
    "    array[:,coluna1] = valores2\n",
    "    array[:,coluna2] = valores1\n",
    "    \n",
    "    return array\n",
    "    \n",
    "    \n",
    "# exemplo de uso da função    \n",
    "x = np.array([[0, 1, 2, 3, 4, 5], \n",
    "              [0, 1, 2, 3, 4, 5], \n",
    "              [0, 1, 2, 3, 4, 5]])\n",
    "troca_colunas(x, 1,3)"
   ]
  },
  {
   "cell_type": "markdown",
   "metadata": {},
   "source": [
    "### Exercício 8)\n",
    "Escreva um código para, data uma matriz, zerar todos os elementos abaixo da diagonal principal da matriz. Por exemplo:\n",
    "```python\n",
    "[[2 8 3 4 8]\n",
    " [4 8 7 7 3]\n",
    " [8 2 3 1 4]\n",
    " [8 6 3 8 1]\n",
    " [6 4 4 6 1]]\n",
    "```\n",
    "deve resultar em\n",
    "```python\n",
    "[[2 8 3 4 8]\n",
    " [0 8 7 7 3]\n",
    " [0 0 3 1 4]\n",
    " [0 0 0 8 1]\n",
    " [0 0 0 0 1]]\n",
    "```"
   ]
  },
  {
   "cell_type": "code",
   "execution_count": null,
   "metadata": {},
   "outputs": [],
   "source": [
    "nada\n",
    "0\n",
    "0 1\n",
    "0 1 2\n",
    "0 1 2 3"
   ]
  },
  {
   "cell_type": "code",
   "execution_count": 60,
   "metadata": {},
   "outputs": [
    {
     "name": "stdout",
     "output_type": "stream",
     "text": [
      "[]\n"
     ]
    }
   ],
   "source": [
    "matriz = np.array([[2, 8, 3, 4, 8],\n",
    " [4, 8, 7, 7, 3],\n",
    " [8, 2, 3, 1, 4],\n",
    " [8, 6, 3, 8, 1],\n",
    " [6, 4, 4, 6, 1]])\n",
    "\n",
    "\n"
   ]
  }
 ],
 "metadata": {
  "kernelspec": {
   "display_name": "Python 3 (ipykernel)",
   "language": "python",
   "name": "python3"
  },
  "language_info": {
   "codemirror_mode": {
    "name": "ipython",
    "version": 3
   },
   "file_extension": ".py",
   "mimetype": "text/x-python",
   "name": "python",
   "nbconvert_exporter": "python",
   "pygments_lexer": "ipython3",
   "version": "3.10.9"
  }
 },
 "nbformat": 4,
 "nbformat_minor": 2
}
